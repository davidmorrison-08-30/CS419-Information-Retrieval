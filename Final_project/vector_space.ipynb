{
  "cells": [
    {
      "cell_type": "code",
      "execution_count": null,
      "metadata": {
        "colab": {
          "base_uri": "https://localhost:8080/"
        },
        "id": "3KdUvATVL6Br",
        "outputId": "8f52298c-7105-4d84-ebc3-9bcb7d045f95"
      },
      "outputs": [
        {
          "output_type": "stream",
          "name": "stdout",
          "text": [
            "Looking in indexes: https://pypi.org/simple, https://us-python.pkg.dev/colab-wheels/public/simple/\n",
            "Collecting ir-evaluation-py\n",
            "  Downloading ir_evaluation_py-1.0.0-py3-none-any.whl (22 kB)\n",
            "Installing collected packages: ir-evaluation-py\n",
            "Successfully installed ir-evaluation-py-1.0.0\n"
          ]
        }
      ],
      "source": [
        "!pip install ir-evaluation-py"
      ]
    },
    {
      "cell_type": "code",
      "execution_count": null,
      "metadata": {
        "colab": {
          "base_uri": "https://localhost:8080/"
        },
        "id": "wKWadhMSL6Bt",
        "outputId": "44471e9c-d81a-4926-8bb6-b4d31455efe6"
      },
      "outputs": [
        {
          "output_type": "stream",
          "name": "stderr",
          "text": [
            "[nltk_data] Downloading package stopwords to /root/nltk_data...\n",
            "[nltk_data]   Unzipping corpora/stopwords.zip.\n",
            "[nltk_data] Downloading package punkt to /root/nltk_data...\n",
            "[nltk_data]   Unzipping tokenizers/punkt.zip.\n",
            "[nltk_data] Downloading package wordnet to /root/nltk_data...\n"
          ]
        },
        {
          "output_type": "execute_result",
          "data": {
            "text/plain": [
              "True"
            ]
          },
          "metadata": {},
          "execution_count": 2
        }
      ],
      "source": [
        "import os\n",
        "import numpy as np\n",
        "import pandas as pd\n",
        "import re\n",
        "import nltk\n",
        "from nltk.stem import PorterStemmer, WordNetLemmatizer\n",
        "from nltk.corpus import stopwords\n",
        "import json\n",
        "import operator\n",
        "from ir_evaluation.effectiveness import effectiveness\n",
        "import random\n",
        "import time\n",
        "import ast\n",
        "from google.colab import drive\n",
        "import matplotlib.pyplot as plt\n",
        "nltk.download('stopwords')\n",
        "nltk.download('punkt')\n",
        "nltk.download('wordnet')"
      ]
    },
    {
      "cell_type": "code",
      "source": [
        "stopwords.words('english')"
      ],
      "metadata": {
        "id": "X7VBhprkg1_M",
        "colab": {
          "base_uri": "https://localhost:8080/"
        },
        "outputId": "afa12a14-382b-4d4a-f8e6-5397e83ec943"
      },
      "execution_count": null,
      "outputs": [
        {
          "output_type": "execute_result",
          "data": {
            "text/plain": [
              "['i',\n",
              " 'me',\n",
              " 'my',\n",
              " 'myself',\n",
              " 'we',\n",
              " 'our',\n",
              " 'ours',\n",
              " 'ourselves',\n",
              " 'you',\n",
              " \"you're\",\n",
              " \"you've\",\n",
              " \"you'll\",\n",
              " \"you'd\",\n",
              " 'your',\n",
              " 'yours',\n",
              " 'yourself',\n",
              " 'yourselves',\n",
              " 'he',\n",
              " 'him',\n",
              " 'his',\n",
              " 'himself',\n",
              " 'she',\n",
              " \"she's\",\n",
              " 'her',\n",
              " 'hers',\n",
              " 'herself',\n",
              " 'it',\n",
              " \"it's\",\n",
              " 'its',\n",
              " 'itself',\n",
              " 'they',\n",
              " 'them',\n",
              " 'their',\n",
              " 'theirs',\n",
              " 'themselves',\n",
              " 'what',\n",
              " 'which',\n",
              " 'who',\n",
              " 'whom',\n",
              " 'this',\n",
              " 'that',\n",
              " \"that'll\",\n",
              " 'these',\n",
              " 'those',\n",
              " 'am',\n",
              " 'is',\n",
              " 'are',\n",
              " 'was',\n",
              " 'were',\n",
              " 'be',\n",
              " 'been',\n",
              " 'being',\n",
              " 'have',\n",
              " 'has',\n",
              " 'had',\n",
              " 'having',\n",
              " 'do',\n",
              " 'does',\n",
              " 'did',\n",
              " 'doing',\n",
              " 'a',\n",
              " 'an',\n",
              " 'the',\n",
              " 'and',\n",
              " 'but',\n",
              " 'if',\n",
              " 'or',\n",
              " 'because',\n",
              " 'as',\n",
              " 'until',\n",
              " 'while',\n",
              " 'of',\n",
              " 'at',\n",
              " 'by',\n",
              " 'for',\n",
              " 'with',\n",
              " 'about',\n",
              " 'against',\n",
              " 'between',\n",
              " 'into',\n",
              " 'through',\n",
              " 'during',\n",
              " 'before',\n",
              " 'after',\n",
              " 'above',\n",
              " 'below',\n",
              " 'to',\n",
              " 'from',\n",
              " 'up',\n",
              " 'down',\n",
              " 'in',\n",
              " 'out',\n",
              " 'on',\n",
              " 'off',\n",
              " 'over',\n",
              " 'under',\n",
              " 'again',\n",
              " 'further',\n",
              " 'then',\n",
              " 'once',\n",
              " 'here',\n",
              " 'there',\n",
              " 'when',\n",
              " 'where',\n",
              " 'why',\n",
              " 'how',\n",
              " 'all',\n",
              " 'any',\n",
              " 'both',\n",
              " 'each',\n",
              " 'few',\n",
              " 'more',\n",
              " 'most',\n",
              " 'other',\n",
              " 'some',\n",
              " 'such',\n",
              " 'no',\n",
              " 'nor',\n",
              " 'not',\n",
              " 'only',\n",
              " 'own',\n",
              " 'same',\n",
              " 'so',\n",
              " 'than',\n",
              " 'too',\n",
              " 'very',\n",
              " 's',\n",
              " 't',\n",
              " 'can',\n",
              " 'will',\n",
              " 'just',\n",
              " 'don',\n",
              " \"don't\",\n",
              " 'should',\n",
              " \"should've\",\n",
              " 'now',\n",
              " 'd',\n",
              " 'll',\n",
              " 'm',\n",
              " 'o',\n",
              " 're',\n",
              " 've',\n",
              " 'y',\n",
              " 'ain',\n",
              " 'aren',\n",
              " \"aren't\",\n",
              " 'couldn',\n",
              " \"couldn't\",\n",
              " 'didn',\n",
              " \"didn't\",\n",
              " 'doesn',\n",
              " \"doesn't\",\n",
              " 'hadn',\n",
              " \"hadn't\",\n",
              " 'hasn',\n",
              " \"hasn't\",\n",
              " 'haven',\n",
              " \"haven't\",\n",
              " 'isn',\n",
              " \"isn't\",\n",
              " 'ma',\n",
              " 'mightn',\n",
              " \"mightn't\",\n",
              " 'mustn',\n",
              " \"mustn't\",\n",
              " 'needn',\n",
              " \"needn't\",\n",
              " 'shan',\n",
              " \"shan't\",\n",
              " 'shouldn',\n",
              " \"shouldn't\",\n",
              " 'wasn',\n",
              " \"wasn't\",\n",
              " 'weren',\n",
              " \"weren't\",\n",
              " 'won',\n",
              " \"won't\",\n",
              " 'wouldn',\n",
              " \"wouldn't\"]"
            ]
          },
          "metadata": {},
          "execution_count": 3
        }
      ]
    },
    {
      "cell_type": "code",
      "source": [
        "[i for i in nltk.word_tokenize(\"what are the structural and aeroelastic problems associated with flight of high speed aircraft .\") if i not in stopwords.words('english')]"
      ],
      "metadata": {
        "colab": {
          "base_uri": "https://localhost:8080/"
        },
        "id": "LT2f6TMQkksc",
        "outputId": "1a4099e5-3b00-4db8-b6ee-94fb5dfa7a6d"
      },
      "execution_count": null,
      "outputs": [
        {
          "output_type": "execute_result",
          "data": {
            "text/plain": [
              "['structural',\n",
              " 'aeroelastic',\n",
              " 'problems',\n",
              " 'associated',\n",
              " 'flight',\n",
              " 'high',\n",
              " 'speed',\n",
              " 'aircraft',\n",
              " '.']"
            ]
          },
          "metadata": {},
          "execution_count": 4
        }
      ]
    },
    {
      "cell_type": "code",
      "execution_count": null,
      "metadata": {
        "id": "Q-cPhtnjn-t1",
        "colab": {
          "base_uri": "https://localhost:8080/"
        },
        "outputId": "bb154a74-d158-4be5-b634-d61352bfe467"
      },
      "outputs": [
        {
          "output_type": "stream",
          "name": "stdout",
          "text": [
            "Mounted at /content/drive\n"
          ]
        }
      ],
      "source": [
        "from google.colab import drive\n",
        "drive.mount('/content/drive')"
      ]
    },
    {
      "cell_type": "code",
      "execution_count": null,
      "metadata": {
        "id": "-aH3n7NDL6Bu"
      },
      "outputs": [],
      "source": [
        "def serialize_sets(obj):\n",
        "    if isinstance(obj, set):\n",
        "        return list(obj)\n",
        "\n",
        "    return obj"
      ]
    },
    {
      "cell_type": "markdown",
      "metadata": {
        "id": "NQc467eyL6Bw"
      },
      "source": [
        "## **IMPORT CRANFIELD 1400 DATASET (giải nén 1400 file cranfield được lưu trong /cran/cran.all.1400)**"
      ]
    },
    {
      "cell_type": "code",
      "execution_count": null,
      "metadata": {
        "id": "7X07roAIL6Bv"
      },
      "outputs": [],
      "source": [
        "def text_process(content):\n",
        "    stop_list = stopwords.words('english')\n",
        "    stem = PorterStemmer()\n",
        "\n",
        "    content = content.lstrip()\n",
        "    content = re.sub('[^A-Za-z]+', ' ', content)\n",
        "    content = content.lower()\n",
        "    tokens = nltk.word_tokenize(content)\n",
        "\n",
        "    stem_tokens = [stem.stem(word) for word in tokens if word not in stop_list]\n",
        "    clean_stem_tokens = ' '.join(map(str,  stem_tokens))\n",
        "\n",
        "    shortword = re.compile(r'\\W*\\b\\w{1,2}\\b')\n",
        "    clean_stem_tokens = shortword.sub('', clean_stem_tokens)\n",
        "\n",
        "    return clean_stem_tokens"
      ]
    },
    {
      "cell_type": "code",
      "source": [
        "content = \"what problems of heat conduction in composite slabs have been solved so far .\"\n",
        "text_process(content)"
      ],
      "metadata": {
        "colab": {
          "base_uri": "https://localhost:8080/",
          "height": 36
        },
        "id": "spSMwUVbbghp",
        "outputId": "a9ddbfe5-9727-4199-8d4f-e2c9efa76429"
      },
      "execution_count": null,
      "outputs": [
        {
          "output_type": "execute_result",
          "data": {
            "text/plain": [
              "'problem heat conduct composit slab solv far'"
            ],
            "application/vnd.google.colaboratory.intrinsic+json": {
              "type": "string"
            }
          },
          "metadata": {},
          "execution_count": 6
        }
      ]
    },
    {
      "cell_type": "markdown",
      "metadata": {
        "id": "tfGYz4e6L6Bw"
      },
      "source": [
        "Create a folder to stores files of Cranfield dataset (cran/)\n",
        "For each dataset, create folders to store processed data:\n",
        "- docs_files: a folder to store each raw doc in separated file\n",
        "- processed_docs: a folder to store processed doc in separated file\n",
        "- query_files: a folder to store each raw query in separated file\n",
        "- vsm_result: a folder to store ranked list of VSM model of each doc in separated file\n",
        "- prob_result: a folder to store ranked list of VSM model of each doc in separated file"
      ]
    },
    {
      "cell_type": "code",
      "execution_count": null,
      "metadata": {
        "id": "DF15zIk6L6Bx"
      },
      "outputs": [],
      "source": [
        "# store each doc in a seperated file\n",
        "with open('/content/drive/MyDrive/Colab Notebooks/Information Retrieval/Final-project/cran/cran.all.1400', 'r') as f:\n",
        "    content = f.readlines()\n",
        "    for line in content:\n",
        "      if line.startswith('.I'):\n",
        "          f_ = line.split('.I')[1]\n",
        "          name = '/content/drive/MyDrive/Colab Notebooks/Information Retrieval/Final-project/cran/doc_files/' + f_[:-1].strip() + '.txt'\n",
        "          f1 = open(name, 'w')\n",
        "          f1.write(line)\n",
        "          f1.close()\n",
        "      else:\n",
        "          with open(name, 'a') as f1:\n",
        "              f1.write(line)\n",
        "          f1.close()\n",
        "    f.close()"
      ]
    },
    {
      "cell_type": "code",
      "execution_count": null,
      "metadata": {
        "id": "TETa8iRIL6Bx"
      },
      "outputs": [],
      "source": [
        "# save processed doc\n",
        "dir = os.listdir('/content/drive/MyDrive/Colab Notebooks/Information Retrieval/Final-project/cran/doc_files/')\n",
        "for d in dir:\n",
        "    with open('/content/drive/MyDrive/Colab Notebooks/Information Retrieval/Final-project/cran/doc_files/' + d, 'r') as f:\n",
        "        content = f.readlines()\n",
        "        flag = False\n",
        "        content_ = ''\n",
        "        for line in content:\n",
        "            if line.startswith('.W'):\n",
        "                flag = True\n",
        "            if flag == True:\n",
        "                if line.startswith('.W'):\n",
        "                    continue\n",
        "                else:\n",
        "                    content_ = content_ + line\n",
        "        new_content = text_process(content_)\n",
        "        with open('/content/drive/MyDrive/Colab Notebooks/Information Retrieval/Final-project/cran/processed_doc/' + d, 'w') as f1:\n",
        "            f1.write(new_content)\n",
        "            f1.close()\n",
        "    f.close()"
      ]
    },
    {
      "cell_type": "markdown",
      "metadata": {
        "id": "y1V3ZPfOL6By"
      },
      "source": [
        "# **INDEXING (LẬP CHỈ MỤC)**"
      ]
    },
    {
      "cell_type": "code",
      "source": [
        "content = \"Today is Saturday and I am feeling so relaxed\"\n",
        "tokens = nltk.word_tokenize(content)\n",
        "print(tokens)"
      ],
      "metadata": {
        "colab": {
          "base_uri": "https://localhost:8080/"
        },
        "id": "qB9ET7g6lqce",
        "outputId": "4c03521e-4fb9-4f19-99dc-789f65b3952f"
      },
      "execution_count": null,
      "outputs": [
        {
          "output_type": "stream",
          "name": "stdout",
          "text": [
            "['Today', 'is', 'Saturday', 'and', 'I', 'am', 'feeling', 'so', 'relaxed']\n"
          ]
        }
      ]
    },
    {
      "cell_type": "code",
      "source": [
        "dictionary = {\"1\": 1, \"2\": 2}\n",
        "print(\"1\" in dictionary, \"3\" in dictionary)"
      ],
      "metadata": {
        "colab": {
          "base_uri": "https://localhost:8080/"
        },
        "id": "NaSviYNdnE8-",
        "outputId": "5d6dfc6b-074f-48cc-9360-95176fb40bb5"
      },
      "execution_count": null,
      "outputs": [
        {
          "output_type": "stream",
          "name": "stdout",
          "text": [
            "True False\n"
          ]
        }
      ]
    },
    {
      "cell_type": "markdown",
      "source": [
        "**Dưới đây là hàm lập chỉ mục dựa theo mô hình không gian vector. Các biến quan trọng gồm có:**\n",
        "\n",
        "*   **inverted_index: là một dictionary với mỗi key là một term, còn value là một dictionary khác mà mỗi cặp {key: value} có dạng {tài_liệu: trọng_số_tf*idf của term trong tài_liệu}**"
      ],
      "metadata": {
        "id": "ATED0KdKcLgV"
      }
    },
    {
      "cell_type": "code",
      "execution_count": null,
      "metadata": {
        "id": "HTQIEhwqL6By"
      },
      "outputs": [],
      "source": [
        "def create_vector_index(path):\n",
        "    inverted_index = {}    # for each term, its w = tf*idf in each document will be saved into this dictionary\n",
        "    dir = os.listdir(path) # list of links to documents\n",
        "    no_docs = len(dir)    # number of documents\n",
        "    for d in dir:\n",
        "        id = d.split('.')[0] # document's name\n",
        "        f = open(path + d, 'r')\n",
        "        content = f.read()  # reading content from a document\n",
        "        f.close()\n",
        "        tokens = nltk.word_tokenize(content)\n",
        "        for token in tokens:\n",
        "            if token not in inverted_index:\n",
        "                inverted_index[token] = {}\n",
        "            if id not in inverted_index[token]:\n",
        "                inverted_index[token][id] = [0, 0]\n",
        "                inverted_index[token][id][0] = 1\n",
        "            else:\n",
        "                inverted_index[token][id][0] += 1\n",
        "    weights = {}\n",
        "    idf_dict = {}\n",
        "    for term in inverted_index:       # term ~ token\n",
        "        idf = np.log(no_docs/len(inverted_index[term]))\n",
        "        idf_dict[term] = idf\n",
        "        for id in inverted_index[term]:\n",
        "            if id not in weights:\n",
        "                weights[id] = []\n",
        "            inverted_index[term][id][1] = (1 + np.log(inverted_index[term][id][0]))*idf # calculate w = tf*idf\n",
        "            weights[id].append(inverted_index[term][id][1])\n",
        "\n",
        "    # WEIGHT NORMALIZATION\n",
        "    weights_norm = {}\n",
        "    for id in weights:\n",
        "        sqr = np.square(weights[id])\n",
        "        sum_sqr = np.sum(sqr)\n",
        "        norm = np.sqrt(sum_sqr)\n",
        "        weights_norm[id] = norm\n",
        "    for term in inverted_index:\n",
        "        for id in inverted_index[term]:\n",
        "            inverted_index[term][id][1] = inverted_index[term][id][1]/weights_norm[id]\n",
        "    return idf_dict, inverted_index"
      ]
    },
    {
      "cell_type": "code",
      "source": [
        "index_file = \"/content/drive/MyDrive/Colab Notebooks/Information Retrieval/Final-project/cran/inverted_index_vect.txt\"\n",
        "f = open(index_file, \"r\")\n",
        "contents = f.read()\n",
        "index_dict = ast.literal_eval(contents)"
      ],
      "metadata": {
        "id": "kjjjWUeWsWon"
      },
      "execution_count": null,
      "outputs": []
    },
    {
      "cell_type": "code",
      "source": [
        "for i in index_dict[\"inviscid\"].items():\n",
        "    if i[1] == [0, 0]:\n",
        "      print(i[0])"
      ],
      "metadata": {
        "id": "j-czpMOmsnd4"
      },
      "execution_count": null,
      "outputs": []
    },
    {
      "cell_type": "markdown",
      "metadata": {
        "id": "nqoUhNrvL6Bz"
      },
      "source": [
        "## ĐẾM THỜI GIAN LẬP CHỈ MỤC SỬ DỤNG VECTOR SPACE MODEL"
      ]
    },
    {
      "cell_type": "markdown",
      "source": [
        "**Vector Space Model**"
      ],
      "metadata": {
        "id": "h6eG6wkNd30O"
      }
    },
    {
      "cell_type": "code",
      "execution_count": null,
      "metadata": {
        "colab": {
          "base_uri": "https://localhost:8080/"
        },
        "id": "xv9BtmQEL6Bz",
        "outputId": "464e2be4-4d0a-4af4-b937-9497d1c947b6"
      },
      "outputs": [
        {
          "output_type": "stream",
          "name": "stdout",
          "text": [
            "28.06743359565735\n"
          ]
        }
      ],
      "source": [
        "start_time = time.time()\n",
        "idf_dict, index = create_vector_index('/content/drive/MyDrive/Colab Notebooks/Information Retrieval/Final-project/cran/processed_doc/')\n",
        "f = open('/content/drive/MyDrive/Colab Notebooks/Information Retrieval/Final-project/cran/inverted_index_vect.txt', 'w')\n",
        "f.write(json.dumps(index))\n",
        "f.close()\n",
        "f = open('/content/drive/MyDrive/Colab Notebooks/Information Retrieval/Final-project/cran/idf_dict.txt', 'w')\n",
        "f.write(json.dumps(idf_dict))\n",
        "f.close()\n",
        "print(time.time() - start_time)"
      ]
    },
    {
      "cell_type": "markdown",
      "source": [
        "# **COSINE SIMILARITY**"
      ],
      "metadata": {
        "id": "N2CpTsPCkoVd"
      }
    },
    {
      "cell_type": "code",
      "execution_count": null,
      "metadata": {
        "id": "zn4yPiT_L6B0"
      },
      "outputs": [],
      "source": [
        "def process_query(qry):\n",
        "    return text_process(qry)"
      ]
    },
    {
      "cell_type": "code",
      "source": [
        "qry = '''is it possible to relate the available pressure distributions for an\n",
        "ogive forebody at zero angle of attack to the lower surface pressures of\n",
        "an equivalent ogive forebody at angle of attack .'''"
      ],
      "metadata": {
        "id": "DD4lLVu76rnY"
      },
      "execution_count": null,
      "outputs": []
    },
    {
      "cell_type": "code",
      "source": [
        "increase_font()\n",
        "process_query(qry)"
      ],
      "metadata": {
        "colab": {
          "base_uri": "https://localhost:8080/",
          "height": 42
        },
        "id": "gL6sMjMO61pE",
        "outputId": "883ffb59-4df0-4977-c544-d74218587112"
      },
      "execution_count": null,
      "outputs": [
        {
          "output_type": "display_data",
          "data": {
            "text/plain": [
              "<IPython.core.display.Javascript object>"
            ],
            "application/javascript": [
              "\n",
              "  for (rule of document.styleSheets[0].cssRules){\n",
              "    if (rule.selectorText=='body') {\n",
              "      rule.style.fontSize = '20px'\n",
              "      break\n",
              "    }\n",
              "  }\n",
              "  "
            ]
          },
          "metadata": {}
        },
        {
          "output_type": "execute_result",
          "data": {
            "text/plain": [
              "'possibl relat avail pressur distribut ogiv forebodi zero angl attack lower surfac pressur equival ogiv forebodi angl attack'"
            ],
            "application/vnd.google.colaboratory.intrinsic+json": {
              "type": "string"
            }
          },
          "metadata": {},
          "execution_count": 25
        }
      ]
    },
    {
      "cell_type": "code",
      "execution_count": null,
      "metadata": {
        "id": "5_SCbXxZL6B0"
      },
      "outputs": [],
      "source": [
        "def read_index(index_path):\n",
        "    f = open(index_path, 'r')\n",
        "    data = f.read()\n",
        "    index = json.loads(data)\n",
        "    f.close()\n",
        "\n",
        "    return index"
      ]
    },
    {
      "cell_type": "code",
      "source": [
        "def form_weight_dict(qry, inverted_index, idf_dict):\n",
        "  weight_dict = {}\n",
        "  tokens = nltk.word_tokenize(qry)\n",
        "  for token in tokens:\n",
        "    if token in inverted_index:\n",
        "      if token not in weight_dict:\n",
        "        weight_dict[token] = 1\n",
        "      else:\n",
        "        weight_dict[token] += 1\n",
        "  for token in weight_dict:\n",
        "    weight_dict[token] = (1 + np.log(weight_dict[token])) * idf_dict[token]\n",
        "  for term in inverted_index:\n",
        "    if term not in weight_dict:\n",
        "      weight_dict[term] = 0\n",
        "\n",
        "  # WEIGHT NORMALIZATION\n",
        "  norm = np.sqrt(np.sum(np.square(list(weight_dict.values()))))\n",
        "  for term in weight_dict:\n",
        "    if norm != 0:\n",
        "      weight_dict[term] = weight_dict[term] / norm\n",
        "  return weight_dict"
      ],
      "metadata": {
        "id": "KcWm-4HHRfUQ"
      },
      "execution_count": null,
      "outputs": []
    },
    {
      "cell_type": "code",
      "source": [
        "def cos(weight_dict, inverted_index):\n",
        "  inv_ind_normed = {}\n",
        "  for term in inverted_index:\n",
        "    sum = 0\n",
        "    for doc_id in inverted_index[term]:\n",
        "      sum += np.square(inverted_index[term][doc_id][1])\n",
        "    inv_ind_normed[term] = np.sqrt(sum)\n",
        "\n",
        "  weight_dict_normed = {}\n",
        "  norm = np.sqrt(np.sum(np.square(list(weight_dict.values()))))\n",
        "  for term in weight_dict:\n",
        "    if norm != 0:\n",
        "      weight_dict_normed[term] = weight_dict[term] / norm\n",
        "\n",
        "  sums = {}\n",
        "  for doc_id in range(1, 1401):\n",
        "    sum = 0\n",
        "    for term in weight_dict:\n",
        "      if str(doc_id) not in inverted_index[term]:\n",
        "        continue\n",
        "      sum += weight_dict_normed[term] * (inverted_index[term][str(doc_id)][1]/inv_ind_normed[term])\n",
        "    sums[str(doc_id)] = sum\n",
        "  return sums"
      ],
      "metadata": {
        "id": "Jx5sCfnqk6VX"
      },
      "execution_count": null,
      "outputs": []
    },
    {
      "cell_type": "markdown",
      "metadata": {
        "id": "G5dgBTjoL6B0"
      },
      "source": [
        "# **RETRIEVAL**"
      ]
    },
    {
      "cell_type": "markdown",
      "source": [
        "**Hàm truy vấn theo mô hình Vector Space**"
      ],
      "metadata": {
        "id": "SidUSAHbzQHJ"
      }
    },
    {
      "cell_type": "code",
      "execution_count": null,
      "metadata": {
        "id": "y3z3ke-BL6B0"
      },
      "outputs": [],
      "source": [
        "#save each query in seperate file\n",
        "f = open('/content/drive/MyDrive/Colab Notebooks/Information Retrieval/Final-project/cran/cran.qry', 'r')\n",
        "lines = f.readlines()\n",
        "f.close()\n",
        "flag = False\n",
        "count = 1\n",
        "for line in lines:\n",
        "    if line.startswith('.I'):\n",
        "        if flag == True:\n",
        "            f = open('/content/drive/MyDrive/Colab Notebooks/Information Retrieval/Final-project/cran/query_files/' + qry_id + '.txt', 'w')\n",
        "            f.write(qry)\n",
        "            f.close()\n",
        "        qry_id = str(count)\n",
        "        qry = ''\n",
        "        count += 1\n",
        "        flag = False\n",
        "    elif line.startswith('.W'):\n",
        "        flag = True\n",
        "    else: qry += line\n",
        "f = open('/content/drive/MyDrive/Colab Notebooks/Information Retrieval/Final-project/cran/query_files/' + qry_id + '.txt', 'w')\n",
        "f.write(qry)\n",
        "f.close()"
      ]
    },
    {
      "cell_type": "code",
      "execution_count": null,
      "metadata": {
        "id": "ANSt9YFUL6B1",
        "colab": {
          "base_uri": "https://localhost:8080/"
        },
        "outputId": "2277ce70-131d-42f7-b42c-cb6583b2989a"
      },
      "outputs": [
        {
          "output_type": "stream",
          "name": "stdout",
          "text": [
            "553.4899916648865\n"
          ]
        }
      ],
      "source": [
        "start_time = time.time()\n",
        "index = read_index('/content/drive/MyDrive/Colab Notebooks/Information Retrieval/Final-project/cran/inverted_index_vect.txt')\n",
        "query_list = os.listdir('/content/drive/MyDrive/Colab Notebooks/Information Retrieval/Final-project/cran/query_files/')\n",
        "for name in query_list:\n",
        "    result = {}\n",
        "    qry_id = name.split('.')[0]\n",
        "    f = open('/content/drive/MyDrive/Colab Notebooks/Information Retrieval/Final-project/cran/query_files/' + name, 'r')\n",
        "    qry = f.read()\n",
        "    f.close()\n",
        "    qry = process_query(qry)\n",
        "    weight_dict = form_weight_dict(qry, index, idf_dict)\n",
        "    f = open('/content/drive/MyDrive/Colab Notebooks/Information Retrieval/Final-project/cran/qry_weight_vector/' + name, 'w')\n",
        "    f.write(json.dumps(weight_dict))\n",
        "    f.close()\n",
        "    result = cos(weight_dict, index)\n",
        "    f = open('/content/drive/MyDrive/Colab Notebooks/Information Retrieval/Final-project/cran/vector_result/' + name, 'w')\n",
        "    f.write(json.dumps(result))\n",
        "    f.close()\n",
        "print(time.time() - start_time)"
      ]
    },
    {
      "cell_type": "code",
      "source": [
        "new_query = \" clear survey duration\"\n",
        "new_query = process_query(new_query)\n",
        "new_weight_dict = form_weight_dict(new_query, index, idf_dict)\n",
        "result = cos(new_weight_dict, index)\n",
        "f = open('/content/drive/MyDrive/Colab Notebooks/Information Retrieval/Final-project/cran/new_qry_result.txt', 'w')\n",
        "f.write(json.dumps(result))\n",
        "f.close()"
      ],
      "metadata": {
        "id": "zPzICSS5SnAG"
      },
      "execution_count": null,
      "outputs": []
    },
    {
      "cell_type": "markdown",
      "source": [
        "# **DOCUMENT RANKING**"
      ],
      "metadata": {
        "id": "FK2EAHQpJpa_"
      }
    },
    {
      "cell_type": "code",
      "source": [
        "def increase_font():\n",
        "  from IPython.display import Javascript\n",
        "  display(Javascript('''\n",
        "  for (rule of document.styleSheets[0].cssRules){\n",
        "    if (rule.selectorText=='body') {\n",
        "      rule.style.fontSize = '20px'\n",
        "      break\n",
        "    }\n",
        "  }\n",
        "  '''))"
      ],
      "metadata": {
        "id": "PxOHYNYPrG7j"
      },
      "execution_count": null,
      "outputs": []
    },
    {
      "cell_type": "code",
      "source": [
        "def rank(query):\n",
        "  qry_result_file = \"/content/drive/MyDrive/Colab Notebooks/Information Retrieval/Final-project/cran/vector_result/\" + str(query) + \".txt\"\n",
        "  f = open(qry_result_file, \"r\")\n",
        "  contents = f.read()\n",
        "  cos_sim = ast.literal_eval(contents)\n",
        "  f.close()\n",
        "  sorted_docs = sorted(cos_sim.items(), key=lambda x: x[1], reverse=True)\n",
        "  return sorted_docs"
      ],
      "metadata": {
        "id": "H0dkt5mkJtK7"
      },
      "execution_count": null,
      "outputs": []
    },
    {
      "cell_type": "code",
      "source": [
        "ranking = rank(7)"
      ],
      "metadata": {
        "id": "6qP9aVviO6kY"
      },
      "execution_count": null,
      "outputs": []
    },
    {
      "cell_type": "code",
      "source": [
        "ranking_dict = {\"Tài liệu\": [], \"Độ tương đồng\": []}\n",
        "for i in ranking:\n",
        "  ranking_dict[\"Tài liệu\"].append(i[0])\n",
        "  ranking_dict[\"Độ tương đồng\"].append(i[1])\n",
        "ranking_df = pd.DataFrame(ranking_dict)"
      ],
      "metadata": {
        "id": "uGnpYzHxsUDb"
      },
      "execution_count": null,
      "outputs": []
    },
    {
      "cell_type": "code",
      "source": [
        "increase_font()\n",
        "print(\"Xếp hạng các tài liệu khi thực hiện truy vấn với query thứ 7\")\n",
        "ranking_df.head(7)"
      ],
      "metadata": {
        "colab": {
          "base_uri": "https://localhost:8080/",
          "height": 401
        },
        "id": "C0cTxahFry-u",
        "outputId": "742692e7-a7a2-4813-d3d1-dd1537eef19f"
      },
      "execution_count": null,
      "outputs": [
        {
          "output_type": "display_data",
          "data": {
            "text/plain": [
              "<IPython.core.display.Javascript object>"
            ],
            "application/javascript": [
              "\n",
              "  for (rule of document.styleSheets[0].cssRules){\n",
              "    if (rule.selectorText=='body') {\n",
              "      rule.style.fontSize = '20px'\n",
              "      break\n",
              "    }\n",
              "  }\n",
              "  "
            ]
          },
          "metadata": {}
        },
        {
          "output_type": "stream",
          "name": "stdout",
          "text": [
            "Xếp hạng các tài liệu khi thực hiện truy vấn với query thứ 7\n"
          ]
        },
        {
          "output_type": "execute_result",
          "data": {
            "text/plain": [
              "  Tài liệu  Độ tương đồng\n",
              "0      492       0.821812\n",
              "1      973       0.376403\n",
              "2      434       0.356496\n",
              "3      233       0.283985\n",
              "4       57       0.258576\n",
              "5      124       0.233845\n",
              "6       56       0.226599"
            ],
            "text/html": [
              "\n",
              "  <div id=\"df-fd2b4854-1c7e-4a1a-92fd-26343a6b8b04\">\n",
              "    <div class=\"colab-df-container\">\n",
              "      <div>\n",
              "<style scoped>\n",
              "    .dataframe tbody tr th:only-of-type {\n",
              "        vertical-align: middle;\n",
              "    }\n",
              "\n",
              "    .dataframe tbody tr th {\n",
              "        vertical-align: top;\n",
              "    }\n",
              "\n",
              "    .dataframe thead th {\n",
              "        text-align: right;\n",
              "    }\n",
              "</style>\n",
              "<table border=\"1\" class=\"dataframe\">\n",
              "  <thead>\n",
              "    <tr style=\"text-align: right;\">\n",
              "      <th></th>\n",
              "      <th>Tài liệu</th>\n",
              "      <th>Độ tương đồng</th>\n",
              "    </tr>\n",
              "  </thead>\n",
              "  <tbody>\n",
              "    <tr>\n",
              "      <th>0</th>\n",
              "      <td>492</td>\n",
              "      <td>0.821812</td>\n",
              "    </tr>\n",
              "    <tr>\n",
              "      <th>1</th>\n",
              "      <td>973</td>\n",
              "      <td>0.376403</td>\n",
              "    </tr>\n",
              "    <tr>\n",
              "      <th>2</th>\n",
              "      <td>434</td>\n",
              "      <td>0.356496</td>\n",
              "    </tr>\n",
              "    <tr>\n",
              "      <th>3</th>\n",
              "      <td>233</td>\n",
              "      <td>0.283985</td>\n",
              "    </tr>\n",
              "    <tr>\n",
              "      <th>4</th>\n",
              "      <td>57</td>\n",
              "      <td>0.258576</td>\n",
              "    </tr>\n",
              "    <tr>\n",
              "      <th>5</th>\n",
              "      <td>124</td>\n",
              "      <td>0.233845</td>\n",
              "    </tr>\n",
              "    <tr>\n",
              "      <th>6</th>\n",
              "      <td>56</td>\n",
              "      <td>0.226599</td>\n",
              "    </tr>\n",
              "  </tbody>\n",
              "</table>\n",
              "</div>\n",
              "      <button class=\"colab-df-convert\" onclick=\"convertToInteractive('df-fd2b4854-1c7e-4a1a-92fd-26343a6b8b04')\"\n",
              "              title=\"Convert this dataframe to an interactive table.\"\n",
              "              style=\"display:none;\">\n",
              "        \n",
              "  <svg xmlns=\"http://www.w3.org/2000/svg\" height=\"24px\"viewBox=\"0 0 24 24\"\n",
              "       width=\"24px\">\n",
              "    <path d=\"M0 0h24v24H0V0z\" fill=\"none\"/>\n",
              "    <path d=\"M18.56 5.44l.94 2.06.94-2.06 2.06-.94-2.06-.94-.94-2.06-.94 2.06-2.06.94zm-11 1L8.5 8.5l.94-2.06 2.06-.94-2.06-.94L8.5 2.5l-.94 2.06-2.06.94zm10 10l.94 2.06.94-2.06 2.06-.94-2.06-.94-.94-2.06-.94 2.06-2.06.94z\"/><path d=\"M17.41 7.96l-1.37-1.37c-.4-.4-.92-.59-1.43-.59-.52 0-1.04.2-1.43.59L10.3 9.45l-7.72 7.72c-.78.78-.78 2.05 0 2.83L4 21.41c.39.39.9.59 1.41.59.51 0 1.02-.2 1.41-.59l7.78-7.78 2.81-2.81c.8-.78.8-2.07 0-2.86zM5.41 20L4 18.59l7.72-7.72 1.47 1.35L5.41 20z\"/>\n",
              "  </svg>\n",
              "      </button>\n",
              "      \n",
              "  <style>\n",
              "    .colab-df-container {\n",
              "      display:flex;\n",
              "      flex-wrap:wrap;\n",
              "      gap: 12px;\n",
              "    }\n",
              "\n",
              "    .colab-df-convert {\n",
              "      background-color: #E8F0FE;\n",
              "      border: none;\n",
              "      border-radius: 50%;\n",
              "      cursor: pointer;\n",
              "      display: none;\n",
              "      fill: #1967D2;\n",
              "      height: 32px;\n",
              "      padding: 0 0 0 0;\n",
              "      width: 32px;\n",
              "    }\n",
              "\n",
              "    .colab-df-convert:hover {\n",
              "      background-color: #E2EBFA;\n",
              "      box-shadow: 0px 1px 2px rgba(60, 64, 67, 0.3), 0px 1px 3px 1px rgba(60, 64, 67, 0.15);\n",
              "      fill: #174EA6;\n",
              "    }\n",
              "\n",
              "    [theme=dark] .colab-df-convert {\n",
              "      background-color: #3B4455;\n",
              "      fill: #D2E3FC;\n",
              "    }\n",
              "\n",
              "    [theme=dark] .colab-df-convert:hover {\n",
              "      background-color: #434B5C;\n",
              "      box-shadow: 0px 1px 3px 1px rgba(0, 0, 0, 0.15);\n",
              "      filter: drop-shadow(0px 1px 2px rgba(0, 0, 0, 0.3));\n",
              "      fill: #FFFFFF;\n",
              "    }\n",
              "  </style>\n",
              "\n",
              "      <script>\n",
              "        const buttonEl =\n",
              "          document.querySelector('#df-fd2b4854-1c7e-4a1a-92fd-26343a6b8b04 button.colab-df-convert');\n",
              "        buttonEl.style.display =\n",
              "          google.colab.kernel.accessAllowed ? 'block' : 'none';\n",
              "\n",
              "        async function convertToInteractive(key) {\n",
              "          const element = document.querySelector('#df-fd2b4854-1c7e-4a1a-92fd-26343a6b8b04');\n",
              "          const dataTable =\n",
              "            await google.colab.kernel.invokeFunction('convertToInteractive',\n",
              "                                                     [key], {});\n",
              "          if (!dataTable) return;\n",
              "\n",
              "          const docLinkHtml = 'Like what you see? Visit the ' +\n",
              "            '<a target=\"_blank\" href=https://colab.research.google.com/notebooks/data_table.ipynb>data table notebook</a>'\n",
              "            + ' to learn more about interactive tables.';\n",
              "          element.innerHTML = '';\n",
              "          dataTable['output_type'] = 'display_data';\n",
              "          await google.colab.output.renderOutput(dataTable, element);\n",
              "          const docLink = document.createElement('div');\n",
              "          docLink.innerHTML = docLinkHtml;\n",
              "          element.appendChild(docLink);\n",
              "        }\n",
              "      </script>\n",
              "    </div>\n",
              "  </div>\n",
              "  "
            ]
          },
          "metadata": {},
          "execution_count": 30
        }
      ]
    },
    {
      "cell_type": "markdown",
      "source": [
        "# **PRECISION, RECALL AND MAP**"
      ],
      "metadata": {
        "id": "yUIRMlrD73xr"
      }
    },
    {
      "cell_type": "code",
      "source": [
        "res_1 = \"/content/drive/MyDrive/Colab Notebooks/Information Retrieval/Final-project/cran/RES/1.txt\"\n",
        "f = open(res_1, \"r\")\n",
        "contents = f.readlines()\n",
        "print(len(contents))"
      ],
      "metadata": {
        "colab": {
          "base_uri": "https://localhost:8080/"
        },
        "id": "M0nIAKugpgC5",
        "outputId": "c946fdf1-3be1-4022-ff53-038bd18afc47"
      },
      "execution_count": null,
      "outputs": [
        {
          "output_type": "stream",
          "name": "stdout",
          "text": [
            "29\n"
          ]
        }
      ]
    },
    {
      "cell_type": "code",
      "source": [
        "def prec_rec(qry_id):\n",
        "  ranking = rank(qry_id)\n",
        "  rel_file = \"/content/drive/MyDrive/Colab Notebooks/Information Retrieval/Final-project/cran/RES/\" + str(qry_id) + \".txt\"\n",
        "  f = open(rel_file, \"r\")\n",
        "  lines = f.readlines()\n",
        "  rel_no = len(lines)\n",
        "  A = [j.split()[1] for j in lines]\n",
        "  f.close()\n",
        "  B = [i[0] for i in ranking if i[1] > 0]\n",
        "  returned_no = len(B)\n",
        "  rel_returned_no = len(set(A) & set(B))\n",
        "  rec = rel_returned_no / rel_no\n",
        "  prec = rel_returned_no / returned_no\n",
        "  return prec, rec"
      ],
      "metadata": {
        "id": "yNbSGJ4d8Avm"
      },
      "execution_count": null,
      "outputs": []
    },
    {
      "cell_type": "code",
      "source": [
        "prec_rec_list = [prec_rec(qry_id) for qry_id in range(1, 226)]\n",
        "avg_prec = sum(i[0] for i in prec_rec_list) / 225\n",
        "avg_rec = sum(i[1] for i in prec_rec_list) / 225"
      ],
      "metadata": {
        "id": "K8KUUqeX2n_G"
      },
      "execution_count": null,
      "outputs": []
    },
    {
      "cell_type": "code",
      "source": [
        "print(\"Average precision for 225 queries: \", avg_prec)\n",
        "print(\"Average recall for 225 queries: \", avg_rec)"
      ],
      "metadata": {
        "colab": {
          "base_uri": "https://localhost:8080/"
        },
        "id": "Zrr-U5w2GY0a",
        "outputId": "702c4206-7461-4ed1-bc59-d0a7ef1725dc"
      },
      "execution_count": null,
      "outputs": [
        {
          "output_type": "stream",
          "name": "stdout",
          "text": [
            "Average precision for 225 queries:  0.009636555778657558\n",
            "Average recall for 225 queries:  0.9608491963124148\n"
          ]
        }
      ]
    }
  ],
  "metadata": {
    "interpreter": {
      "hash": "ada9fabe7e6e53f306d2de459e56a9ae70b3c90146f086e5031f9817e1f8397e"
    },
    "kernelspec": {
      "display_name": "Python 3",
      "name": "python3"
    },
    "language_info": {
      "codemirror_mode": {
        "name": "ipython",
        "version": 3
      },
      "file_extension": ".py",
      "mimetype": "text/x-python",
      "name": "python",
      "nbconvert_exporter": "python",
      "pygments_lexer": "ipython3",
      "version": "3.8.5"
    },
    "orig_nbformat": 4,
    "colab": {
      "provenance": [],
      "collapsed_sections": [
        "NQc467eyL6Bw",
        "y1V3ZPfOL6By",
        "nqoUhNrvL6Bz",
        "N2CpTsPCkoVd",
        "G5dgBTjoL6B0"
      ],
      "gpuType": "T4"
    },
    "accelerator": "GPU"
  },
  "nbformat": 4,
  "nbformat_minor": 0
}