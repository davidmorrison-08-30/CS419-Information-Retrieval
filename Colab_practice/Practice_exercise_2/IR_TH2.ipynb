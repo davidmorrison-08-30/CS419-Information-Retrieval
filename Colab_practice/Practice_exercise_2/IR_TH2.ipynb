{
  "nbformat": 4,
  "nbformat_minor": 0,
  "metadata": {
    "colab": {
      "provenance": []
    },
    "kernelspec": {
      "name": "python3",
      "display_name": "Python 3"
    },
    "language_info": {
      "name": "python"
    },
    "widgets": {
      "application/vnd.jupyter.widget-state+json": {
        "f8ca610b88fa4360af5c8e9712fd9964": {
          "model_module": "@jupyter-widgets/controls",
          "model_name": "HBoxModel",
          "model_module_version": "1.5.0",
          "state": {
            "_dom_classes": [],
            "_model_module": "@jupyter-widgets/controls",
            "_model_module_version": "1.5.0",
            "_model_name": "HBoxModel",
            "_view_count": null,
            "_view_module": "@jupyter-widgets/controls",
            "_view_module_version": "1.5.0",
            "_view_name": "HBoxView",
            "box_style": "",
            "children": [
              "IPY_MODEL_3dbe7e2588f544318cd54d740fbd6768",
              "IPY_MODEL_d034011ce59a481a876db660d9d1f7be",
              "IPY_MODEL_3ba996fd921344499138bc83cf45ed34"
            ],
            "layout": "IPY_MODEL_a975b33badbe4e278c62258830ff059b"
          }
        },
        "3dbe7e2588f544318cd54d740fbd6768": {
          "model_module": "@jupyter-widgets/controls",
          "model_name": "HTMLModel",
          "model_module_version": "1.5.0",
          "state": {
            "_dom_classes": [],
            "_model_module": "@jupyter-widgets/controls",
            "_model_module_version": "1.5.0",
            "_model_name": "HTMLModel",
            "_view_count": null,
            "_view_module": "@jupyter-widgets/controls",
            "_view_module_version": "1.5.0",
            "_view_name": "HTMLView",
            "description": "",
            "description_tooltip": null,
            "layout": "IPY_MODEL_8171f9a0ebf945f2a46ae288570e4aeb",
            "placeholder": "​",
            "style": "IPY_MODEL_7a95dfea6d874d8a9621791eadd7f200",
            "value": "Downloading https://raw.githubusercontent.com/stanfordnlp/stanza-resources/main/resources_1.4.1.json: "
          }
        },
        "d034011ce59a481a876db660d9d1f7be": {
          "model_module": "@jupyter-widgets/controls",
          "model_name": "FloatProgressModel",
          "model_module_version": "1.5.0",
          "state": {
            "_dom_classes": [],
            "_model_module": "@jupyter-widgets/controls",
            "_model_module_version": "1.5.0",
            "_model_name": "FloatProgressModel",
            "_view_count": null,
            "_view_module": "@jupyter-widgets/controls",
            "_view_module_version": "1.5.0",
            "_view_name": "ProgressView",
            "bar_style": "success",
            "description": "",
            "description_tooltip": null,
            "layout": "IPY_MODEL_ca57ee0b6f5f4b84a08a96b18d504803",
            "max": 28918,
            "min": 0,
            "orientation": "horizontal",
            "style": "IPY_MODEL_4142644b65b34ffabfe29e3641897651",
            "value": 28918
          }
        },
        "3ba996fd921344499138bc83cf45ed34": {
          "model_module": "@jupyter-widgets/controls",
          "model_name": "HTMLModel",
          "model_module_version": "1.5.0",
          "state": {
            "_dom_classes": [],
            "_model_module": "@jupyter-widgets/controls",
            "_model_module_version": "1.5.0",
            "_model_name": "HTMLModel",
            "_view_count": null,
            "_view_module": "@jupyter-widgets/controls",
            "_view_module_version": "1.5.0",
            "_view_name": "HTMLView",
            "description": "",
            "description_tooltip": null,
            "layout": "IPY_MODEL_43612a3bc87e462baabd6a3ad03136af",
            "placeholder": "​",
            "style": "IPY_MODEL_f809c26e13a149c5ac8fff3c45c78cd9",
            "value": " 193k/? [00:00&lt;00:00, 3.23MB/s]"
          }
        },
        "a975b33badbe4e278c62258830ff059b": {
          "model_module": "@jupyter-widgets/base",
          "model_name": "LayoutModel",
          "model_module_version": "1.2.0",
          "state": {
            "_model_module": "@jupyter-widgets/base",
            "_model_module_version": "1.2.0",
            "_model_name": "LayoutModel",
            "_view_count": null,
            "_view_module": "@jupyter-widgets/base",
            "_view_module_version": "1.2.0",
            "_view_name": "LayoutView",
            "align_content": null,
            "align_items": null,
            "align_self": null,
            "border": null,
            "bottom": null,
            "display": null,
            "flex": null,
            "flex_flow": null,
            "grid_area": null,
            "grid_auto_columns": null,
            "grid_auto_flow": null,
            "grid_auto_rows": null,
            "grid_column": null,
            "grid_gap": null,
            "grid_row": null,
            "grid_template_areas": null,
            "grid_template_columns": null,
            "grid_template_rows": null,
            "height": null,
            "justify_content": null,
            "justify_items": null,
            "left": null,
            "margin": null,
            "max_height": null,
            "max_width": null,
            "min_height": null,
            "min_width": null,
            "object_fit": null,
            "object_position": null,
            "order": null,
            "overflow": null,
            "overflow_x": null,
            "overflow_y": null,
            "padding": null,
            "right": null,
            "top": null,
            "visibility": null,
            "width": null
          }
        },
        "8171f9a0ebf945f2a46ae288570e4aeb": {
          "model_module": "@jupyter-widgets/base",
          "model_name": "LayoutModel",
          "model_module_version": "1.2.0",
          "state": {
            "_model_module": "@jupyter-widgets/base",
            "_model_module_version": "1.2.0",
            "_model_name": "LayoutModel",
            "_view_count": null,
            "_view_module": "@jupyter-widgets/base",
            "_view_module_version": "1.2.0",
            "_view_name": "LayoutView",
            "align_content": null,
            "align_items": null,
            "align_self": null,
            "border": null,
            "bottom": null,
            "display": null,
            "flex": null,
            "flex_flow": null,
            "grid_area": null,
            "grid_auto_columns": null,
            "grid_auto_flow": null,
            "grid_auto_rows": null,
            "grid_column": null,
            "grid_gap": null,
            "grid_row": null,
            "grid_template_areas": null,
            "grid_template_columns": null,
            "grid_template_rows": null,
            "height": null,
            "justify_content": null,
            "justify_items": null,
            "left": null,
            "margin": null,
            "max_height": null,
            "max_width": null,
            "min_height": null,
            "min_width": null,
            "object_fit": null,
            "object_position": null,
            "order": null,
            "overflow": null,
            "overflow_x": null,
            "overflow_y": null,
            "padding": null,
            "right": null,
            "top": null,
            "visibility": null,
            "width": null
          }
        },
        "7a95dfea6d874d8a9621791eadd7f200": {
          "model_module": "@jupyter-widgets/controls",
          "model_name": "DescriptionStyleModel",
          "model_module_version": "1.5.0",
          "state": {
            "_model_module": "@jupyter-widgets/controls",
            "_model_module_version": "1.5.0",
            "_model_name": "DescriptionStyleModel",
            "_view_count": null,
            "_view_module": "@jupyter-widgets/base",
            "_view_module_version": "1.2.0",
            "_view_name": "StyleView",
            "description_width": ""
          }
        },
        "ca57ee0b6f5f4b84a08a96b18d504803": {
          "model_module": "@jupyter-widgets/base",
          "model_name": "LayoutModel",
          "model_module_version": "1.2.0",
          "state": {
            "_model_module": "@jupyter-widgets/base",
            "_model_module_version": "1.2.0",
            "_model_name": "LayoutModel",
            "_view_count": null,
            "_view_module": "@jupyter-widgets/base",
            "_view_module_version": "1.2.0",
            "_view_name": "LayoutView",
            "align_content": null,
            "align_items": null,
            "align_self": null,
            "border": null,
            "bottom": null,
            "display": null,
            "flex": null,
            "flex_flow": null,
            "grid_area": null,
            "grid_auto_columns": null,
            "grid_auto_flow": null,
            "grid_auto_rows": null,
            "grid_column": null,
            "grid_gap": null,
            "grid_row": null,
            "grid_template_areas": null,
            "grid_template_columns": null,
            "grid_template_rows": null,
            "height": null,
            "justify_content": null,
            "justify_items": null,
            "left": null,
            "margin": null,
            "max_height": null,
            "max_width": null,
            "min_height": null,
            "min_width": null,
            "object_fit": null,
            "object_position": null,
            "order": null,
            "overflow": null,
            "overflow_x": null,
            "overflow_y": null,
            "padding": null,
            "right": null,
            "top": null,
            "visibility": null,
            "width": null
          }
        },
        "4142644b65b34ffabfe29e3641897651": {
          "model_module": "@jupyter-widgets/controls",
          "model_name": "ProgressStyleModel",
          "model_module_version": "1.5.0",
          "state": {
            "_model_module": "@jupyter-widgets/controls",
            "_model_module_version": "1.5.0",
            "_model_name": "ProgressStyleModel",
            "_view_count": null,
            "_view_module": "@jupyter-widgets/base",
            "_view_module_version": "1.2.0",
            "_view_name": "StyleView",
            "bar_color": null,
            "description_width": ""
          }
        },
        "43612a3bc87e462baabd6a3ad03136af": {
          "model_module": "@jupyter-widgets/base",
          "model_name": "LayoutModel",
          "model_module_version": "1.2.0",
          "state": {
            "_model_module": "@jupyter-widgets/base",
            "_model_module_version": "1.2.0",
            "_model_name": "LayoutModel",
            "_view_count": null,
            "_view_module": "@jupyter-widgets/base",
            "_view_module_version": "1.2.0",
            "_view_name": "LayoutView",
            "align_content": null,
            "align_items": null,
            "align_self": null,
            "border": null,
            "bottom": null,
            "display": null,
            "flex": null,
            "flex_flow": null,
            "grid_area": null,
            "grid_auto_columns": null,
            "grid_auto_flow": null,
            "grid_auto_rows": null,
            "grid_column": null,
            "grid_gap": null,
            "grid_row": null,
            "grid_template_areas": null,
            "grid_template_columns": null,
            "grid_template_rows": null,
            "height": null,
            "justify_content": null,
            "justify_items": null,
            "left": null,
            "margin": null,
            "max_height": null,
            "max_width": null,
            "min_height": null,
            "min_width": null,
            "object_fit": null,
            "object_position": null,
            "order": null,
            "overflow": null,
            "overflow_x": null,
            "overflow_y": null,
            "padding": null,
            "right": null,
            "top": null,
            "visibility": null,
            "width": null
          }
        },
        "f809c26e13a149c5ac8fff3c45c78cd9": {
          "model_module": "@jupyter-widgets/controls",
          "model_name": "DescriptionStyleModel",
          "model_module_version": "1.5.0",
          "state": {
            "_model_module": "@jupyter-widgets/controls",
            "_model_module_version": "1.5.0",
            "_model_name": "DescriptionStyleModel",
            "_view_count": null,
            "_view_module": "@jupyter-widgets/base",
            "_view_module_version": "1.2.0",
            "_view_name": "StyleView",
            "description_width": ""
          }
        },
        "5f062651cb1544d4b6984499bdd91b3d": {
          "model_module": "@jupyter-widgets/controls",
          "model_name": "HBoxModel",
          "model_module_version": "1.5.0",
          "state": {
            "_dom_classes": [],
            "_model_module": "@jupyter-widgets/controls",
            "_model_module_version": "1.5.0",
            "_model_name": "HBoxModel",
            "_view_count": null,
            "_view_module": "@jupyter-widgets/controls",
            "_view_module_version": "1.5.0",
            "_view_name": "HBoxView",
            "box_style": "",
            "children": [
              "IPY_MODEL_d6c3c3f330304c158e3a52d46d4b998c",
              "IPY_MODEL_9379d6f74e764245aacfff35bfeb7b1c",
              "IPY_MODEL_23c9bdb149c84d4eb328efa60c2485a6"
            ],
            "layout": "IPY_MODEL_d77599a856db4a7a9cb41cbb7287021c"
          }
        },
        "d6c3c3f330304c158e3a52d46d4b998c": {
          "model_module": "@jupyter-widgets/controls",
          "model_name": "HTMLModel",
          "model_module_version": "1.5.0",
          "state": {
            "_dom_classes": [],
            "_model_module": "@jupyter-widgets/controls",
            "_model_module_version": "1.5.0",
            "_model_name": "HTMLModel",
            "_view_count": null,
            "_view_module": "@jupyter-widgets/controls",
            "_view_module_version": "1.5.0",
            "_view_name": "HTMLView",
            "description": "",
            "description_tooltip": null,
            "layout": "IPY_MODEL_d5ef001ff9f14f869d05e30f7fae636c",
            "placeholder": "​",
            "style": "IPY_MODEL_dfef7f007c2c473090aed07e1fe9d636",
            "value": "Downloading https://huggingface.co/stanfordnlp/stanza-en/resolve/v1.4.1/models/default.zip: 100%"
          }
        },
        "9379d6f74e764245aacfff35bfeb7b1c": {
          "model_module": "@jupyter-widgets/controls",
          "model_name": "FloatProgressModel",
          "model_module_version": "1.5.0",
          "state": {
            "_dom_classes": [],
            "_model_module": "@jupyter-widgets/controls",
            "_model_module_version": "1.5.0",
            "_model_name": "FloatProgressModel",
            "_view_count": null,
            "_view_module": "@jupyter-widgets/controls",
            "_view_module_version": "1.5.0",
            "_view_name": "ProgressView",
            "bar_style": "success",
            "description": "",
            "description_tooltip": null,
            "layout": "IPY_MODEL_c19323940f5349dbb59e773ab3598fde",
            "max": 561333907,
            "min": 0,
            "orientation": "horizontal",
            "style": "IPY_MODEL_f1f961ccf26542409abbe7a2bbc099e1",
            "value": 561333907
          }
        },
        "23c9bdb149c84d4eb328efa60c2485a6": {
          "model_module": "@jupyter-widgets/controls",
          "model_name": "HTMLModel",
          "model_module_version": "1.5.0",
          "state": {
            "_dom_classes": [],
            "_model_module": "@jupyter-widgets/controls",
            "_model_module_version": "1.5.0",
            "_model_name": "HTMLModel",
            "_view_count": null,
            "_view_module": "@jupyter-widgets/controls",
            "_view_module_version": "1.5.0",
            "_view_name": "HTMLView",
            "description": "",
            "description_tooltip": null,
            "layout": "IPY_MODEL_63e4bd34b3f74efcab3a618808186af0",
            "placeholder": "​",
            "style": "IPY_MODEL_10f00d85e82847ee900df31c60ac3479",
            "value": " 561M/561M [00:09&lt;00:00, 57.5MB/s]"
          }
        },
        "d77599a856db4a7a9cb41cbb7287021c": {
          "model_module": "@jupyter-widgets/base",
          "model_name": "LayoutModel",
          "model_module_version": "1.2.0",
          "state": {
            "_model_module": "@jupyter-widgets/base",
            "_model_module_version": "1.2.0",
            "_model_name": "LayoutModel",
            "_view_count": null,
            "_view_module": "@jupyter-widgets/base",
            "_view_module_version": "1.2.0",
            "_view_name": "LayoutView",
            "align_content": null,
            "align_items": null,
            "align_self": null,
            "border": null,
            "bottom": null,
            "display": null,
            "flex": null,
            "flex_flow": null,
            "grid_area": null,
            "grid_auto_columns": null,
            "grid_auto_flow": null,
            "grid_auto_rows": null,
            "grid_column": null,
            "grid_gap": null,
            "grid_row": null,
            "grid_template_areas": null,
            "grid_template_columns": null,
            "grid_template_rows": null,
            "height": null,
            "justify_content": null,
            "justify_items": null,
            "left": null,
            "margin": null,
            "max_height": null,
            "max_width": null,
            "min_height": null,
            "min_width": null,
            "object_fit": null,
            "object_position": null,
            "order": null,
            "overflow": null,
            "overflow_x": null,
            "overflow_y": null,
            "padding": null,
            "right": null,
            "top": null,
            "visibility": null,
            "width": null
          }
        },
        "d5ef001ff9f14f869d05e30f7fae636c": {
          "model_module": "@jupyter-widgets/base",
          "model_name": "LayoutModel",
          "model_module_version": "1.2.0",
          "state": {
            "_model_module": "@jupyter-widgets/base",
            "_model_module_version": "1.2.0",
            "_model_name": "LayoutModel",
            "_view_count": null,
            "_view_module": "@jupyter-widgets/base",
            "_view_module_version": "1.2.0",
            "_view_name": "LayoutView",
            "align_content": null,
            "align_items": null,
            "align_self": null,
            "border": null,
            "bottom": null,
            "display": null,
            "flex": null,
            "flex_flow": null,
            "grid_area": null,
            "grid_auto_columns": null,
            "grid_auto_flow": null,
            "grid_auto_rows": null,
            "grid_column": null,
            "grid_gap": null,
            "grid_row": null,
            "grid_template_areas": null,
            "grid_template_columns": null,
            "grid_template_rows": null,
            "height": null,
            "justify_content": null,
            "justify_items": null,
            "left": null,
            "margin": null,
            "max_height": null,
            "max_width": null,
            "min_height": null,
            "min_width": null,
            "object_fit": null,
            "object_position": null,
            "order": null,
            "overflow": null,
            "overflow_x": null,
            "overflow_y": null,
            "padding": null,
            "right": null,
            "top": null,
            "visibility": null,
            "width": null
          }
        },
        "dfef7f007c2c473090aed07e1fe9d636": {
          "model_module": "@jupyter-widgets/controls",
          "model_name": "DescriptionStyleModel",
          "model_module_version": "1.5.0",
          "state": {
            "_model_module": "@jupyter-widgets/controls",
            "_model_module_version": "1.5.0",
            "_model_name": "DescriptionStyleModel",
            "_view_count": null,
            "_view_module": "@jupyter-widgets/base",
            "_view_module_version": "1.2.0",
            "_view_name": "StyleView",
            "description_width": ""
          }
        },
        "c19323940f5349dbb59e773ab3598fde": {
          "model_module": "@jupyter-widgets/base",
          "model_name": "LayoutModel",
          "model_module_version": "1.2.0",
          "state": {
            "_model_module": "@jupyter-widgets/base",
            "_model_module_version": "1.2.0",
            "_model_name": "LayoutModel",
            "_view_count": null,
            "_view_module": "@jupyter-widgets/base",
            "_view_module_version": "1.2.0",
            "_view_name": "LayoutView",
            "align_content": null,
            "align_items": null,
            "align_self": null,
            "border": null,
            "bottom": null,
            "display": null,
            "flex": null,
            "flex_flow": null,
            "grid_area": null,
            "grid_auto_columns": null,
            "grid_auto_flow": null,
            "grid_auto_rows": null,
            "grid_column": null,
            "grid_gap": null,
            "grid_row": null,
            "grid_template_areas": null,
            "grid_template_columns": null,
            "grid_template_rows": null,
            "height": null,
            "justify_content": null,
            "justify_items": null,
            "left": null,
            "margin": null,
            "max_height": null,
            "max_width": null,
            "min_height": null,
            "min_width": null,
            "object_fit": null,
            "object_position": null,
            "order": null,
            "overflow": null,
            "overflow_x": null,
            "overflow_y": null,
            "padding": null,
            "right": null,
            "top": null,
            "visibility": null,
            "width": null
          }
        },
        "f1f961ccf26542409abbe7a2bbc099e1": {
          "model_module": "@jupyter-widgets/controls",
          "model_name": "ProgressStyleModel",
          "model_module_version": "1.5.0",
          "state": {
            "_model_module": "@jupyter-widgets/controls",
            "_model_module_version": "1.5.0",
            "_model_name": "ProgressStyleModel",
            "_view_count": null,
            "_view_module": "@jupyter-widgets/base",
            "_view_module_version": "1.2.0",
            "_view_name": "StyleView",
            "bar_color": null,
            "description_width": ""
          }
        },
        "63e4bd34b3f74efcab3a618808186af0": {
          "model_module": "@jupyter-widgets/base",
          "model_name": "LayoutModel",
          "model_module_version": "1.2.0",
          "state": {
            "_model_module": "@jupyter-widgets/base",
            "_model_module_version": "1.2.0",
            "_model_name": "LayoutModel",
            "_view_count": null,
            "_view_module": "@jupyter-widgets/base",
            "_view_module_version": "1.2.0",
            "_view_name": "LayoutView",
            "align_content": null,
            "align_items": null,
            "align_self": null,
            "border": null,
            "bottom": null,
            "display": null,
            "flex": null,
            "flex_flow": null,
            "grid_area": null,
            "grid_auto_columns": null,
            "grid_auto_flow": null,
            "grid_auto_rows": null,
            "grid_column": null,
            "grid_gap": null,
            "grid_row": null,
            "grid_template_areas": null,
            "grid_template_columns": null,
            "grid_template_rows": null,
            "height": null,
            "justify_content": null,
            "justify_items": null,
            "left": null,
            "margin": null,
            "max_height": null,
            "max_width": null,
            "min_height": null,
            "min_width": null,
            "object_fit": null,
            "object_position": null,
            "order": null,
            "overflow": null,
            "overflow_x": null,
            "overflow_y": null,
            "padding": null,
            "right": null,
            "top": null,
            "visibility": null,
            "width": null
          }
        },
        "10f00d85e82847ee900df31c60ac3479": {
          "model_module": "@jupyter-widgets/controls",
          "model_name": "DescriptionStyleModel",
          "model_module_version": "1.5.0",
          "state": {
            "_model_module": "@jupyter-widgets/controls",
            "_model_module_version": "1.5.0",
            "_model_name": "DescriptionStyleModel",
            "_view_count": null,
            "_view_module": "@jupyter-widgets/base",
            "_view_module_version": "1.2.0",
            "_view_name": "StyleView",
            "description_width": ""
          }
        },
        "28cf8435fab2461c94dd6f05129a5f82": {
          "model_module": "@jupyter-widgets/controls",
          "model_name": "HBoxModel",
          "model_module_version": "1.5.0",
          "state": {
            "_dom_classes": [],
            "_model_module": "@jupyter-widgets/controls",
            "_model_module_version": "1.5.0",
            "_model_name": "HBoxModel",
            "_view_count": null,
            "_view_module": "@jupyter-widgets/controls",
            "_view_module_version": "1.5.0",
            "_view_name": "HBoxView",
            "box_style": "",
            "children": [
              "IPY_MODEL_766e9fa7b9c34aaa9d8ea411a08c06dd",
              "IPY_MODEL_6626d24ab1a84af49e83a00378e186e7",
              "IPY_MODEL_1570e18cb7ae48ad96c8e24c509a9402"
            ],
            "layout": "IPY_MODEL_3eebe869c5df4ff9ab20e10be6c2c1ff"
          }
        },
        "766e9fa7b9c34aaa9d8ea411a08c06dd": {
          "model_module": "@jupyter-widgets/controls",
          "model_name": "HTMLModel",
          "model_module_version": "1.5.0",
          "state": {
            "_dom_classes": [],
            "_model_module": "@jupyter-widgets/controls",
            "_model_module_version": "1.5.0",
            "_model_name": "HTMLModel",
            "_view_count": null,
            "_view_module": "@jupyter-widgets/controls",
            "_view_module_version": "1.5.0",
            "_view_name": "HTMLView",
            "description": "",
            "description_tooltip": null,
            "layout": "IPY_MODEL_a1d663a65740432593dbdd2b10049da4",
            "placeholder": "​",
            "style": "IPY_MODEL_f316c99db0104ddf8d8e4b3dff9718a1",
            "value": "Downloading https://raw.githubusercontent.com/stanfordnlp/stanza-resources/main/resources_1.4.1.json: "
          }
        },
        "6626d24ab1a84af49e83a00378e186e7": {
          "model_module": "@jupyter-widgets/controls",
          "model_name": "FloatProgressModel",
          "model_module_version": "1.5.0",
          "state": {
            "_dom_classes": [],
            "_model_module": "@jupyter-widgets/controls",
            "_model_module_version": "1.5.0",
            "_model_name": "FloatProgressModel",
            "_view_count": null,
            "_view_module": "@jupyter-widgets/controls",
            "_view_module_version": "1.5.0",
            "_view_name": "ProgressView",
            "bar_style": "success",
            "description": "",
            "description_tooltip": null,
            "layout": "IPY_MODEL_e073b8cd4e5b414a91e762655ca4821e",
            "max": 28918,
            "min": 0,
            "orientation": "horizontal",
            "style": "IPY_MODEL_87d6a07f5bd44b7197349e25cbb0593e",
            "value": 28918
          }
        },
        "1570e18cb7ae48ad96c8e24c509a9402": {
          "model_module": "@jupyter-widgets/controls",
          "model_name": "HTMLModel",
          "model_module_version": "1.5.0",
          "state": {
            "_dom_classes": [],
            "_model_module": "@jupyter-widgets/controls",
            "_model_module_version": "1.5.0",
            "_model_name": "HTMLModel",
            "_view_count": null,
            "_view_module": "@jupyter-widgets/controls",
            "_view_module_version": "1.5.0",
            "_view_name": "HTMLView",
            "description": "",
            "description_tooltip": null,
            "layout": "IPY_MODEL_d1ea392073dc4c7087d27a5af71285ac",
            "placeholder": "​",
            "style": "IPY_MODEL_135fe74be8414b428c22a8cb87663385",
            "value": " 193k/? [00:00&lt;00:00, 4.58MB/s]"
          }
        },
        "3eebe869c5df4ff9ab20e10be6c2c1ff": {
          "model_module": "@jupyter-widgets/base",
          "model_name": "LayoutModel",
          "model_module_version": "1.2.0",
          "state": {
            "_model_module": "@jupyter-widgets/base",
            "_model_module_version": "1.2.0",
            "_model_name": "LayoutModel",
            "_view_count": null,
            "_view_module": "@jupyter-widgets/base",
            "_view_module_version": "1.2.0",
            "_view_name": "LayoutView",
            "align_content": null,
            "align_items": null,
            "align_self": null,
            "border": null,
            "bottom": null,
            "display": null,
            "flex": null,
            "flex_flow": null,
            "grid_area": null,
            "grid_auto_columns": null,
            "grid_auto_flow": null,
            "grid_auto_rows": null,
            "grid_column": null,
            "grid_gap": null,
            "grid_row": null,
            "grid_template_areas": null,
            "grid_template_columns": null,
            "grid_template_rows": null,
            "height": null,
            "justify_content": null,
            "justify_items": null,
            "left": null,
            "margin": null,
            "max_height": null,
            "max_width": null,
            "min_height": null,
            "min_width": null,
            "object_fit": null,
            "object_position": null,
            "order": null,
            "overflow": null,
            "overflow_x": null,
            "overflow_y": null,
            "padding": null,
            "right": null,
            "top": null,
            "visibility": null,
            "width": null
          }
        },
        "a1d663a65740432593dbdd2b10049da4": {
          "model_module": "@jupyter-widgets/base",
          "model_name": "LayoutModel",
          "model_module_version": "1.2.0",
          "state": {
            "_model_module": "@jupyter-widgets/base",
            "_model_module_version": "1.2.0",
            "_model_name": "LayoutModel",
            "_view_count": null,
            "_view_module": "@jupyter-widgets/base",
            "_view_module_version": "1.2.0",
            "_view_name": "LayoutView",
            "align_content": null,
            "align_items": null,
            "align_self": null,
            "border": null,
            "bottom": null,
            "display": null,
            "flex": null,
            "flex_flow": null,
            "grid_area": null,
            "grid_auto_columns": null,
            "grid_auto_flow": null,
            "grid_auto_rows": null,
            "grid_column": null,
            "grid_gap": null,
            "grid_row": null,
            "grid_template_areas": null,
            "grid_template_columns": null,
            "grid_template_rows": null,
            "height": null,
            "justify_content": null,
            "justify_items": null,
            "left": null,
            "margin": null,
            "max_height": null,
            "max_width": null,
            "min_height": null,
            "min_width": null,
            "object_fit": null,
            "object_position": null,
            "order": null,
            "overflow": null,
            "overflow_x": null,
            "overflow_y": null,
            "padding": null,
            "right": null,
            "top": null,
            "visibility": null,
            "width": null
          }
        },
        "f316c99db0104ddf8d8e4b3dff9718a1": {
          "model_module": "@jupyter-widgets/controls",
          "model_name": "DescriptionStyleModel",
          "model_module_version": "1.5.0",
          "state": {
            "_model_module": "@jupyter-widgets/controls",
            "_model_module_version": "1.5.0",
            "_model_name": "DescriptionStyleModel",
            "_view_count": null,
            "_view_module": "@jupyter-widgets/base",
            "_view_module_version": "1.2.0",
            "_view_name": "StyleView",
            "description_width": ""
          }
        },
        "e073b8cd4e5b414a91e762655ca4821e": {
          "model_module": "@jupyter-widgets/base",
          "model_name": "LayoutModel",
          "model_module_version": "1.2.0",
          "state": {
            "_model_module": "@jupyter-widgets/base",
            "_model_module_version": "1.2.0",
            "_model_name": "LayoutModel",
            "_view_count": null,
            "_view_module": "@jupyter-widgets/base",
            "_view_module_version": "1.2.0",
            "_view_name": "LayoutView",
            "align_content": null,
            "align_items": null,
            "align_self": null,
            "border": null,
            "bottom": null,
            "display": null,
            "flex": null,
            "flex_flow": null,
            "grid_area": null,
            "grid_auto_columns": null,
            "grid_auto_flow": null,
            "grid_auto_rows": null,
            "grid_column": null,
            "grid_gap": null,
            "grid_row": null,
            "grid_template_areas": null,
            "grid_template_columns": null,
            "grid_template_rows": null,
            "height": null,
            "justify_content": null,
            "justify_items": null,
            "left": null,
            "margin": null,
            "max_height": null,
            "max_width": null,
            "min_height": null,
            "min_width": null,
            "object_fit": null,
            "object_position": null,
            "order": null,
            "overflow": null,
            "overflow_x": null,
            "overflow_y": null,
            "padding": null,
            "right": null,
            "top": null,
            "visibility": null,
            "width": null
          }
        },
        "87d6a07f5bd44b7197349e25cbb0593e": {
          "model_module": "@jupyter-widgets/controls",
          "model_name": "ProgressStyleModel",
          "model_module_version": "1.5.0",
          "state": {
            "_model_module": "@jupyter-widgets/controls",
            "_model_module_version": "1.5.0",
            "_model_name": "ProgressStyleModel",
            "_view_count": null,
            "_view_module": "@jupyter-widgets/base",
            "_view_module_version": "1.2.0",
            "_view_name": "StyleView",
            "bar_color": null,
            "description_width": ""
          }
        },
        "d1ea392073dc4c7087d27a5af71285ac": {
          "model_module": "@jupyter-widgets/base",
          "model_name": "LayoutModel",
          "model_module_version": "1.2.0",
          "state": {
            "_model_module": "@jupyter-widgets/base",
            "_model_module_version": "1.2.0",
            "_model_name": "LayoutModel",
            "_view_count": null,
            "_view_module": "@jupyter-widgets/base",
            "_view_module_version": "1.2.0",
            "_view_name": "LayoutView",
            "align_content": null,
            "align_items": null,
            "align_self": null,
            "border": null,
            "bottom": null,
            "display": null,
            "flex": null,
            "flex_flow": null,
            "grid_area": null,
            "grid_auto_columns": null,
            "grid_auto_flow": null,
            "grid_auto_rows": null,
            "grid_column": null,
            "grid_gap": null,
            "grid_row": null,
            "grid_template_areas": null,
            "grid_template_columns": null,
            "grid_template_rows": null,
            "height": null,
            "justify_content": null,
            "justify_items": null,
            "left": null,
            "margin": null,
            "max_height": null,
            "max_width": null,
            "min_height": null,
            "min_width": null,
            "object_fit": null,
            "object_position": null,
            "order": null,
            "overflow": null,
            "overflow_x": null,
            "overflow_y": null,
            "padding": null,
            "right": null,
            "top": null,
            "visibility": null,
            "width": null
          }
        },
        "135fe74be8414b428c22a8cb87663385": {
          "model_module": "@jupyter-widgets/controls",
          "model_name": "DescriptionStyleModel",
          "model_module_version": "1.5.0",
          "state": {
            "_model_module": "@jupyter-widgets/controls",
            "_model_module_version": "1.5.0",
            "_model_name": "DescriptionStyleModel",
            "_view_count": null,
            "_view_module": "@jupyter-widgets/base",
            "_view_module_version": "1.2.0",
            "_view_name": "StyleView",
            "description_width": ""
          }
        }
      }
    }
  },
  "cells": [
    {
      "cell_type": "markdown",
      "source": [
        "\n",
        "**I) TÍNH TOÁN MA TRẬN TERM-DOCUMENT**\n",
        "\n",
        "***1) TIỀN XỬ LÝ DỮ LIỆU***\n",
        "- Tách câu với sent_tokenize\n",
        "- Tách từ tiếng Anh với word_tokenize\n",
        "- Lọc bỏ các từ stopword với danh sách stopword tiếng Anh\n",
        "- Chuyển về dạng từ gốc với Porter stemmer"
      ],
      "metadata": {
        "id": "dgHdBdjgsUXL"
      }
    },
    {
      "cell_type": "code",
      "execution_count": null,
      "metadata": {
        "id": "JixG02boOY7t"
      },
      "outputs": [],
      "source": [
        "from nltk import sent_tokenize\n",
        "from nltk.tokenize import word_tokenize\n",
        "from nltk.corpus import stopwords\n",
        "from nltk.stem import PorterStemmer"
      ]
    },
    {
      "cell_type": "code",
      "source": [
        "import nltk\n",
        "nltk.download('punkt')"
      ],
      "metadata": {
        "colab": {
          "base_uri": "https://localhost:8080/"
        },
        "id": "QVJ0a26pUol3",
        "outputId": "d051ed7b-ec40-4f8d-d097-2132c195b03c"
      },
      "execution_count": null,
      "outputs": [
        {
          "output_type": "stream",
          "name": "stderr",
          "text": [
            "[nltk_data] Downloading package punkt to /root/nltk_data...\n",
            "[nltk_data]   Unzipping tokenizers/punkt.zip.\n"
          ]
        },
        {
          "output_type": "execute_result",
          "data": {
            "text/plain": [
              "True"
            ]
          },
          "metadata": {},
          "execution_count": 2
        }
      ]
    },
    {
      "cell_type": "code",
      "source": [
        "text = '''experimental investigation of the aerodynamics of a wing in a slipstream . an experimental study of a wing in a propeller slipstream was made in order to determine the spanwise distribution of the lift increase due to slipstream at different angles of attack of the wing and at different free stream to slipstream velocity ratios .  the results were intended in part as an evaluation basis for different theoretical treatments of this problem . the comparative span loading curves, together with supporting evidence, showed that a substantial part of the lift increment produced by the slipstream was due to a /destalling/ or boundary layer control effect .  the integrated remaining lift increment, after subtracting this destalling lift, was found to agree well with a potential flow theory . an empirical evaluation of the destalling effects was made for the specific configuration of the experiment . '''\n",
        "sents = sent_tokenize(text)\n",
        "print(sents)"
      ],
      "metadata": {
        "colab": {
          "base_uri": "https://localhost:8080/"
        },
        "id": "i1huAMdSUBcH",
        "outputId": "46fa0a71-12b6-4cb0-9f8c-3bcb4503b8dc"
      },
      "execution_count": null,
      "outputs": [
        {
          "output_type": "stream",
          "name": "stdout",
          "text": [
            "['experimental investigation of the aerodynamics of a wing in a slipstream .', 'an experimental study of a wing in a propeller slipstream was made in order to determine the spanwise distribution of the lift increase due to slipstream at different angles of attack of the wing and at different free stream to slipstream velocity ratios .', 'the results were intended in part as an evaluation basis for different theoretical treatments of this problem .', 'the comparative span loading curves, together with supporting evidence, showed that a substantial part of the lift increment produced by the slipstream was due to a /destalling/ or boundary layer control effect .', 'the integrated remaining lift increment, after subtracting this destalling lift, was found to agree well with a potential flow theory .', 'an empirical evaluation of the destalling effects was made for the specific configuration of the experiment .']\n"
          ]
        }
      ]
    },
    {
      "cell_type": "code",
      "source": [
        "words = word_tokenize(sents[0])\n",
        "print(words)"
      ],
      "metadata": {
        "colab": {
          "base_uri": "https://localhost:8080/"
        },
        "id": "l79_6j2qU5Ve",
        "outputId": "d28d3791-7aa9-40d4-a436-83d40786e7e3"
      },
      "execution_count": null,
      "outputs": [
        {
          "output_type": "stream",
          "name": "stdout",
          "text": [
            "['experimental', 'investigation', 'of', 'the', 'aerodynamics', 'of', 'a', 'wing', 'in', 'a', 'slipstream', '.']\n"
          ]
        }
      ]
    },
    {
      "cell_type": "code",
      "source": [
        "nltk.download(\"stopwords\")"
      ],
      "metadata": {
        "colab": {
          "base_uri": "https://localhost:8080/"
        },
        "id": "NZ8dW8MXVqCa",
        "outputId": "a5c0b279-eb0e-47d7-e663-84fe86e4e8b6"
      },
      "execution_count": null,
      "outputs": [
        {
          "output_type": "stream",
          "name": "stderr",
          "text": [
            "[nltk_data] Downloading package stopwords to /root/nltk_data...\n",
            "[nltk_data]   Unzipping corpora/stopwords.zip.\n"
          ]
        },
        {
          "output_type": "execute_result",
          "data": {
            "text/plain": [
              "True"
            ]
          },
          "metadata": {},
          "execution_count": 5
        }
      ]
    },
    {
      "cell_type": "code",
      "source": [
        "stoplist = stopwords.words(\"english\")\n",
        "print(stoplist)\n",
        "print(len(stoplist))"
      ],
      "metadata": {
        "colab": {
          "base_uri": "https://localhost:8080/"
        },
        "id": "Apx4N7nMVOLe",
        "outputId": "35cb4919-6790-44bb-a129-846f2867b8a6"
      },
      "execution_count": null,
      "outputs": [
        {
          "output_type": "stream",
          "name": "stdout",
          "text": [
            "['i', 'me', 'my', 'myself', 'we', 'our', 'ours', 'ourselves', 'you', \"you're\", \"you've\", \"you'll\", \"you'd\", 'your', 'yours', 'yourself', 'yourselves', 'he', 'him', 'his', 'himself', 'she', \"she's\", 'her', 'hers', 'herself', 'it', \"it's\", 'its', 'itself', 'they', 'them', 'their', 'theirs', 'themselves', 'what', 'which', 'who', 'whom', 'this', 'that', \"that'll\", 'these', 'those', 'am', 'is', 'are', 'was', 'were', 'be', 'been', 'being', 'have', 'has', 'had', 'having', 'do', 'does', 'did', 'doing', 'a', 'an', 'the', 'and', 'but', 'if', 'or', 'because', 'as', 'until', 'while', 'of', 'at', 'by', 'for', 'with', 'about', 'against', 'between', 'into', 'through', 'during', 'before', 'after', 'above', 'below', 'to', 'from', 'up', 'down', 'in', 'out', 'on', 'off', 'over', 'under', 'again', 'further', 'then', 'once', 'here', 'there', 'when', 'where', 'why', 'how', 'all', 'any', 'both', 'each', 'few', 'more', 'most', 'other', 'some', 'such', 'no', 'nor', 'not', 'only', 'own', 'same', 'so', 'than', 'too', 'very', 's', 't', 'can', 'will', 'just', 'don', \"don't\", 'should', \"should've\", 'now', 'd', 'll', 'm', 'o', 're', 've', 'y', 'ain', 'aren', \"aren't\", 'couldn', \"couldn't\", 'didn', \"didn't\", 'doesn', \"doesn't\", 'hadn', \"hadn't\", 'hasn', \"hasn't\", 'haven', \"haven't\", 'isn', \"isn't\", 'ma', 'mightn', \"mightn't\", 'mustn', \"mustn't\", 'needn', \"needn't\", 'shan', \"shan't\", 'shouldn', \"shouldn't\", 'wasn', \"wasn't\", 'weren', \"weren't\", 'won', \"won't\", 'wouldn', \"wouldn't\"]\n",
            "179\n"
          ]
        }
      ]
    },
    {
      "cell_type": "code",
      "source": [
        "filtered = []\n",
        "for w in words:\n",
        "  if w in stoplist:\n",
        "    continue\n",
        "  filtered.append(w)\n",
        "print(filtered)"
      ],
      "metadata": {
        "colab": {
          "base_uri": "https://localhost:8080/"
        },
        "id": "uf8gKjqCV6Kj",
        "outputId": "1feff10f-2067-4311-f16b-249262e239be"
      },
      "execution_count": null,
      "outputs": [
        {
          "output_type": "stream",
          "name": "stdout",
          "text": [
            "['experimental', 'investigation', 'aerodynamics', 'wing', 'slipstream', '.']\n"
          ]
        }
      ]
    },
    {
      "cell_type": "code",
      "source": [
        "tokens = []\n",
        "for w in filtered:\n",
        "  if w.isalnum():\n",
        "    tokens.append(w)\n",
        "print(tokens)"
      ],
      "metadata": {
        "colab": {
          "base_uri": "https://localhost:8080/"
        },
        "id": "ccWRkx_DWTb2",
        "outputId": "40c15593-ae7c-4c93-fa8a-600af049f989"
      },
      "execution_count": null,
      "outputs": [
        {
          "output_type": "stream",
          "name": "stdout",
          "text": [
            "['experimental', 'investigation', 'aerodynamics', 'wing', 'slipstream']\n"
          ]
        }
      ]
    },
    {
      "cell_type": "code",
      "source": [
        "ps = PorterStemmer()\n",
        "terms = []\n",
        "for w in tokens:\n",
        "  terms.append(ps.stem(w))\n",
        "print(terms)"
      ],
      "metadata": {
        "colab": {
          "base_uri": "https://localhost:8080/"
        },
        "id": "eNPEOs7sXGg0",
        "outputId": "54095184-9d6a-4e82-d654-940078a9800c"
      },
      "execution_count": null,
      "outputs": [
        {
          "output_type": "stream",
          "name": "stdout",
          "text": [
            "['experiment', 'investig', 'aerodynam', 'wing', 'slipstream']\n"
          ]
        }
      ]
    },
    {
      "cell_type": "markdown",
      "source": [
        "VÍ DỤ MINH HỌA VIỆC TIỀN XỬ LÝ\n",
        "\n",
        "Cho tập văn bản D={d1, d2, d3, d4, d5}\n",
        "\n",
        "d1 = Romeo and Juliet\n",
        "\n",
        "d2 = Juliet: Oh happy dagger\n",
        "\n",
        "d3 = Romeo died by dagger\n",
        "\n",
        "d4 = \"live free or die\" is from New-Hampshire\n",
        "\n",
        "d5 = He is from New-Hampshire"
      ],
      "metadata": {
        "id": "35nhwX67s8kL"
      }
    },
    {
      "cell_type": "code",
      "source": [
        "D = ['Romeo and Juliet', \"Juliet: Oh happy dagger\", \"Romeo died by dagger\", '\"live free or die\" is from New-Hampshire', \"He is from New-Hampshire\"]\n",
        "q = \"die dagger\""
      ],
      "metadata": {
        "id": "yfjHtT5qZJwX"
      },
      "execution_count": null,
      "outputs": []
    },
    {
      "cell_type": "code",
      "source": [
        "puncts = ['.', ',', ':', '`', '\"', \"'\", '!', '?', \"``\", \"''\"]\n",
        "stoplist.append('oh')"
      ],
      "metadata": {
        "id": "2azUbw-kcUh8"
      },
      "execution_count": null,
      "outputs": []
    },
    {
      "cell_type": "code",
      "source": [
        "DD = []\n",
        "for i in range(len(D)):\n",
        "  sentences = sent_tokenize(D[i])\n",
        "  terms = []\n",
        "  for j in range(len(sentences)):\n",
        "    toks = word_tokenize(sentences[j])\n",
        "    for tok in toks:\n",
        "      tok = tok.lower()\n",
        "      if tok.isdigit():\n",
        "        continue\n",
        "      if tok.isnumeric():\n",
        "        continue\n",
        "      if tok in puncts:\n",
        "        continue\n",
        "      if tok in stoplist:\n",
        "        continue\n",
        "      terms.append(ps.stem(tok))\n",
        "  DD.append(terms)\n",
        "print(DD)"
      ],
      "metadata": {
        "colab": {
          "base_uri": "https://localhost:8080/"
        },
        "id": "0HBLDBO1Z0s0",
        "outputId": "496f6671-defc-4ad8-cd0c-f87739a6821b"
      },
      "execution_count": null,
      "outputs": [
        {
          "output_type": "stream",
          "name": "stdout",
          "text": [
            "[['romeo', 'juliet'], ['juliet', 'happi', 'dagger'], ['romeo', 'die', 'dagger'], ['live', 'free', 'die', 'new-hampshir'], ['new-hampshir']]\n"
          ]
        }
      ]
    },
    {
      "cell_type": "markdown",
      "source": [
        "***2) TẠO MA TRẬN TERM-DOCUMENT***\n",
        "\n",
        "- Chọn term, mỗi term là một dòng trong ma trận\n",
        "- Mỗi tài liệu là một cột trong ma trận\n",
        "- Giá trị mỗi ô tùy thuộc vào phương pháp tính toán. Chẳng hạn, giá trị mỗi ô có thể là tần số của term trong tài liệu tương ứng.\n",
        "\n",
        "***VÍ DỤ TẠO MA TRẬN TERM-DOCUMENT***\n",
        "\n",
        "Các term được xác định là những từ còn lại sau khi tiền xử lý tập tài liệu D.\n",
        "\n",
        "Giá trị mỗi ô là tần số của term trong tài liệu tương ứng."
      ],
      "metadata": {
        "id": "3xeayYVVtwoh"
      }
    },
    {
      "cell_type": "code",
      "source": [
        "from nltk.probability import FreqDist\n",
        "allterms = []\n",
        "for itm in DD:\n",
        "  allterms.extend(itm)\n",
        "fd = FreqDist(allterms)\n",
        "for key in fd.keys():\n",
        "  print(key, fd[key])"
      ],
      "metadata": {
        "colab": {
          "base_uri": "https://localhost:8080/"
        },
        "id": "S0W2erMfdRTw",
        "outputId": "9c4b5138-1b61-4599-d4d6-c7a6f72af98f"
      },
      "execution_count": null,
      "outputs": [
        {
          "output_type": "stream",
          "name": "stdout",
          "text": [
            "romeo 2\n",
            "juliet 2\n",
            "happi 1\n",
            "dagger 2\n",
            "die 2\n",
            "live 1\n",
            "free 1\n",
            "new-hampshir 2\n"
          ]
        }
      ]
    },
    {
      "cell_type": "code",
      "source": [
        "termdoc = []\n",
        "keys = list(fd.keys())\n",
        "for i in range(len(keys)):\n",
        "  r = [0] * len(DD)\n",
        "  termdoc.append(r)\n",
        "for i in range(len(DD)):\n",
        "  for w in DD[i]:\n",
        "    for j in range(len(keys)):\n",
        "      if keys[j] == w:\n",
        "        termdoc[j][i] += 1\n",
        "        break\n",
        "print(termdoc)"
      ],
      "metadata": {
        "colab": {
          "base_uri": "https://localhost:8080/"
        },
        "id": "70KRbq1deuHJ",
        "outputId": "9722da93-56e1-466a-b564-c94bc4d7f924"
      },
      "execution_count": null,
      "outputs": [
        {
          "output_type": "stream",
          "name": "stdout",
          "text": [
            "[[1, 0, 1, 0, 0], [1, 1, 0, 0, 0], [0, 1, 0, 0, 0], [0, 1, 1, 0, 0], [0, 0, 1, 1, 0], [0, 0, 0, 1, 0], [0, 0, 0, 1, 0], [0, 0, 0, 1, 1]]\n"
          ]
        }
      ]
    },
    {
      "cell_type": "markdown",
      "source": [
        "**II) PHÂN TÍCH NGỮ NGHĨA TIỀM ẨN**\n",
        "\n",
        "***1) TÁCH MA TRẬN VỚI SINGULAR VALUE DECOMPOSITION***\n",
        "\n",
        "- Tạo ma trận term-document A\n",
        "- Sử dụng hàm svd trong package numpy.linalg để tách ma trận A thành các ma trận S, Z và UT thỏa A = S.Z.UT.\n"
      ],
      "metadata": {
        "id": "WnBVuOGku0MB"
      }
    },
    {
      "cell_type": "code",
      "source": [
        "import numpy as np\n",
        "from numpy.linalg import svd, norm\n",
        "from numpy import dot\n"
      ],
      "metadata": {
        "id": "EfJvCLmxgZAp"
      },
      "execution_count": null,
      "outputs": []
    },
    {
      "cell_type": "code",
      "source": [
        "S, Z, UT = svd(termdoc)\n",
        "print(S)\n",
        "print(Z)\n",
        "print(UT)"
      ],
      "metadata": {
        "colab": {
          "base_uri": "https://localhost:8080/"
        },
        "id": "x6bfwBNTgpzb",
        "outputId": "2a6c0329-d720-4fa0-e62a-70dbf52a52a8"
      },
      "execution_count": null,
      "outputs": [
        {
          "output_type": "stream",
          "name": "stdout",
          "text": [
            "[[-3.96152775e-01  2.80057367e-01 -5.71171321e-01  4.49684978e-01\n",
            "  -1.01838799e-01  3.14548241e-01  3.14548241e-01  1.67108527e-01]\n",
            " [-3.14268061e-01  4.49532136e-01  4.10590545e-01  5.13018237e-01\n",
            "   2.03906072e-01 -3.14548241e-01 -3.14548241e-01 -1.67108527e-01]\n",
            " [-1.78239520e-01  2.68991539e-01  4.97320521e-01 -2.56997782e-01\n",
            "   4.30523318e-02  2.26566432e-01  2.26566432e-01  6.91361313e-01]\n",
            " [-4.38363755e-01  3.68508309e-01  1.28791752e-02 -5.77328823e-01\n",
            "  -2.19640207e-01  8.79818089e-02  8.79818089e-02 -5.24252786e-01]\n",
            " [-5.24004819e-01 -2.46404656e-01 -3.38652269e-01 -2.72846164e-01\n",
            "   1.54791485e-01 -4.02530050e-01 -4.02530050e-01  3.57144258e-01]\n",
            " [-2.63880584e-01 -3.45921426e-01  1.45789077e-01  4.74848765e-02\n",
            "   4.17484024e-01  7.01265025e-01 -2.98734975e-01 -1.78572129e-01]\n",
            " [-2.63880584e-01 -3.45921426e-01  1.45789077e-01  4.74848765e-02\n",
            "   4.17484024e-01 -2.98734975e-01  7.01265025e-01 -1.78572129e-01]\n",
            " [-3.26373224e-01 -4.59668780e-01  3.17002971e-01  2.37243804e-01\n",
            "  -7.24851450e-01  1.38777878e-16  1.38777878e-16  0.00000000e+00]]\n",
            "[2.28529793 2.01025824 1.36069931 1.11814038 0.79657684]\n",
            "[[-0.31086574 -0.40733041 -0.59446137 -0.60304575 -0.1428143 ]\n",
            " [ 0.36293322  0.54074246  0.20005441 -0.6953914  -0.22866156]\n",
            " [-0.11801342  0.67670369 -0.659179    0.1983751   0.23297063]\n",
            " [ 0.860986   -0.2873596  -0.35817507  0.05309476  0.21217712]\n",
            " [ 0.12813236  0.03429449 -0.20925479  0.3325581  -0.90995798]]\n"
          ]
        }
      ]
    },
    {
      "cell_type": "code",
      "source": [
        "S2 = S[:,:2]\n",
        "Z2 = np.diag(Z[:2])\n",
        "UT2 = UT[:2,:]\n",
        "print(S2)\n",
        "print(Z2)\n",
        "print(UT2)"
      ],
      "metadata": {
        "colab": {
          "base_uri": "https://localhost:8080/"
        },
        "id": "4RK6uUTNhMYT",
        "outputId": "b1efc352-4832-46f3-ec07-5b2a95a6e25b"
      },
      "execution_count": null,
      "outputs": [
        {
          "output_type": "stream",
          "name": "stdout",
          "text": [
            "[[-0.39615277  0.28005737]\n",
            " [-0.31426806  0.44953214]\n",
            " [-0.17823952  0.26899154]\n",
            " [-0.43836375  0.36850831]\n",
            " [-0.52400482 -0.24640466]\n",
            " [-0.26388058 -0.34592143]\n",
            " [-0.26388058 -0.34592143]\n",
            " [-0.32637322 -0.45966878]]\n",
            "[[2.28529793 0.        ]\n",
            " [0.         2.01025824]]\n",
            "[[-0.31086574 -0.40733041 -0.59446137 -0.60304575 -0.1428143 ]\n",
            " [ 0.36293322  0.54074246  0.20005441 -0.6953914  -0.22866156]]\n"
          ]
        }
      ]
    },
    {
      "cell_type": "markdown",
      "source": [
        "***2) BIỂU DIỄN TERM VÀ DOCUMENT THEO KHÔNG GIAN MỚI***\n",
        "\n",
        "- Tập vector term là K = S.Z\n",
        "- Tập vector document là D = Z.UT\n"
      ],
      "metadata": {
        "id": "eyLzoCcQv29j"
      }
    },
    {
      "cell_type": "code",
      "source": [
        "K = S2.dot(Z2)\n",
        "D = Z2.dot(UT2)\n",
        "print(K)\n",
        "print(D)"
      ],
      "metadata": {
        "colab": {
          "base_uri": "https://localhost:8080/"
        },
        "id": "qV7rlrcjh3Tc",
        "outputId": "8d3be386-1fc8-4abd-ad98-e122dbe59dd4"
      },
      "execution_count": null,
      "outputs": [
        {
          "output_type": "stream",
          "name": "stdout",
          "text": [
            "[[-0.90532712  0.56298763]\n",
            " [-0.71819615  0.90367568]\n",
            " [-0.40733041  0.54074246]\n",
            " [-1.00179178  0.74079687]\n",
            " [-1.19750713 -0.49533699]\n",
            " [-0.60304575 -0.6953914 ]\n",
            " [-0.60304575 -0.6953914 ]\n",
            " [-0.74586005 -0.92405295]]\n",
            "[[-0.71042084 -0.93087134 -1.35852135 -1.37813921 -0.32637322]\n",
            " [ 0.7295895   1.08703198  0.40216102 -1.39791629 -0.45966878]]\n"
          ]
        }
      ]
    },
    {
      "cell_type": "code",
      "source": [
        "Xk = K[:,:1]\n",
        "Xk = Xk.transpose()\n",
        "Xk = Xk.squeeze()\n",
        "Yk = K[:,1:]\n",
        "Yk = Yk.transpose()\n",
        "Yk = Yk.squeeze()\n",
        "print(keys)\n",
        "print(Xk)\n",
        "print(Yk)"
      ],
      "metadata": {
        "colab": {
          "base_uri": "https://localhost:8080/"
        },
        "id": "L3mu5pWIic2u",
        "outputId": "015a25f4-5533-4a16-968b-4e27ca29c664"
      },
      "execution_count": null,
      "outputs": [
        {
          "output_type": "stream",
          "name": "stdout",
          "text": [
            "['romeo', 'juliet', 'happi', 'dagger', 'die', 'live', 'free', 'new-hampshir']\n",
            "[-0.90532712 -0.71819615 -0.40733041 -1.00179178 -1.19750713 -0.60304575\n",
            " -0.60304575 -0.74586005]\n",
            "[ 0.56298763  0.90367568  0.54074246  0.74079687 -0.49533699 -0.6953914\n",
            " -0.6953914  -0.92405295]\n"
          ]
        }
      ]
    },
    {
      "cell_type": "code",
      "source": [
        "from nltk.util import in_idle\n",
        "from io import IncrementalNewlineDecoder\n",
        "%matplotlib notebook\n",
        "import matplotlib.pyplot as plt\n",
        "%matplotlib inline\n",
        "fig = plt.figure(1)\n",
        "ax = fig.add_subplot(111)\n",
        "ax.plot(Xk, Yk, 'o')\n",
        "for i in range(len(keys)):\n",
        "  ax.annotate(keys[i], xy=(Xk[i], Yk[i]), textcoords='data')\n",
        "plt.show()"
      ],
      "metadata": {
        "colab": {
          "base_uri": "https://localhost:8080/",
          "height": 265
        },
        "id": "3JtaHAzuiJ9q",
        "outputId": "62a7c56d-ad94-4d0b-c94b-7ac27d30f75b"
      },
      "execution_count": null,
      "outputs": [
        {
          "output_type": "display_data",
          "data": {
            "text/plain": [
              "<Figure size 432x288 with 1 Axes>"
            ],
            "image/png": "[encoded data removed]"
          },
          "metadata": {
            "needs_background": "light"
          }
        }
      ]
    },
    {
      "cell_type": "code",
      "source": [
        "Vq = (K[3] + K[4]) / 2\n",
        "print(K[3])\n",
        "print(K[4])\n",
        "print(Vq)"
      ],
      "metadata": {
        "colab": {
          "base_uri": "https://localhost:8080/"
        },
        "id": "r4hqHgFBkRQl",
        "outputId": "e07147fd-c6f2-4c8b-da62-9062966ceda7"
      },
      "execution_count": null,
      "outputs": [
        {
          "output_type": "stream",
          "name": "stdout",
          "text": [
            "[-1.00179178  0.74079687]\n",
            "[-1.19750713 -0.49533699]\n",
            "[-1.09964945  0.12272994]\n"
          ]
        }
      ]
    },
    {
      "cell_type": "markdown",
      "source": [
        "***3) TÍNH TOÁN ĐỘ TƯƠNG ĐỒNG GIỮA TÀI LIỆU VÀ TRUY VẤN***\n",
        "\n",
        "- Tính vector truy vấn là trung bình của các vector term có trong truy vấn.\n",
        "\n",
        "- Tính khoảng cách cosine từ vector truy vấn đến từng vector tài liệu.\n",
        "\n",
        "- Xếp tài liệu theo thứ tự giảm dần của khoảng cách cosine.\n"
      ],
      "metadata": {
        "id": "63St7g30wm6x"
      }
    },
    {
      "cell_type": "code",
      "source": [
        "D = D.transpose()\n",
        "scores = []\n",
        "for d in D:\n",
        "  scores.append(dot(Vq, d)/norm(Vq)/norm(d))\n",
        "print(scores)"
      ],
      "metadata": {
        "colab": {
          "base_uri": "https://localhost:8080/"
        },
        "id": "GLcx-tIqk3jC",
        "outputId": "b923a53b-2ebd-4ccc-f10d-cc7ab9334b3b"
      },
      "execution_count": null,
      "outputs": [
        {
          "output_type": "stream",
          "name": "stdout",
          "text": [
            "[0.7727964887537563, 0.7306768205359736, 0.9844359912676066, 0.6187306127613204, 0.48491831850738076]\n"
          ]
        }
      ]
    },
    {
      "cell_type": "markdown",
      "source": [
        "**III - STANZA (STANFORD CORENLP)**\n",
        "\n",
        "STANZA là phiên bản wrap của stanford corenlp trên Python. Stanza có thể được dùng để nhận dạng ranh giới câu, tách từ, gán nhãn từ loại, phân tích cú pháp cấu trúc ngữ đoạn và phân tích cú pháp phụ thuộc. Kết quả xử lý được đặt trong một đối tượng để từ đó truy xuất đến từng kết quả như mong muốn.\n",
        "\n",
        "***1) Cài đặt stanza***"
      ],
      "metadata": {
        "id": "NEjwNCNe7UFe"
      }
    },
    {
      "cell_type": "code",
      "source": [
        "!pip install stanza"
      ],
      "metadata": {
        "colab": {
          "base_uri": "https://localhost:8080/"
        },
        "id": "2XSqcZMjuVhn",
        "outputId": "bb57bf14-0ccf-413b-e938-56235646f4c2"
      },
      "execution_count": null,
      "outputs": [
        {
          "output_type": "stream",
          "name": "stdout",
          "text": [
            "Looking in indexes: https://pypi.org/simple, https://us-python.pkg.dev/colab-wheels/public/simple/\n",
            "Collecting stanza\n",
            "  Downloading stanza-1.4.2-py3-none-any.whl (691 kB)\n",
            "\u001b[K     |████████████████████████████████| 691 kB 7.4 MB/s \n",
            "\u001b[?25hRequirement already satisfied: tqdm in /usr/local/lib/python3.8/dist-packages (from stanza) (4.64.1)\n",
            "Requirement already satisfied: six in /usr/local/lib/python3.8/dist-packages (from stanza) (1.15.0)\n",
            "Collecting emoji\n",
            "  Downloading emoji-2.2.0.tar.gz (240 kB)\n",
            "\u001b[K     |████████████████████████████████| 240 kB 30.7 MB/s \n",
            "\u001b[?25hRequirement already satisfied: requests in /usr/local/lib/python3.8/dist-packages (from stanza) (2.23.0)\n",
            "Requirement already satisfied: protobuf in /usr/local/lib/python3.8/dist-packages (from stanza) (3.19.6)\n",
            "Requirement already satisfied: torch>=1.3.0 in /usr/local/lib/python3.8/dist-packages (from stanza) (1.12.1+cu113)\n",
            "Requirement already satisfied: numpy in /usr/local/lib/python3.8/dist-packages (from stanza) (1.21.6)\n",
            "Requirement already satisfied: typing-extensions in /usr/local/lib/python3.8/dist-packages (from torch>=1.3.0->stanza) (4.1.1)\n",
            "Requirement already satisfied: certifi>=2017.4.17 in /usr/local/lib/python3.8/dist-packages (from requests->stanza) (2022.9.24)\n",
            "Requirement already satisfied: urllib3!=1.25.0,!=1.25.1,<1.26,>=1.21.1 in /usr/local/lib/python3.8/dist-packages (from requests->stanza) (1.24.3)\n",
            "Requirement already satisfied: idna<3,>=2.5 in /usr/local/lib/python3.8/dist-packages (from requests->stanza) (2.10)\n",
            "Requirement already satisfied: chardet<4,>=3.0.2 in /usr/local/lib/python3.8/dist-packages (from requests->stanza) (3.0.4)\n",
            "Building wheels for collected packages: emoji\n",
            "  Building wheel for emoji (setup.py) ... \u001b[?25l\u001b[?25hdone\n",
            "  Created wheel for emoji: filename=emoji-2.2.0-py3-none-any.whl size=234926 sha256=35d541eff20dc09baf0409be84b5ea8301d6229c28bfb939f78574737ee83e21\n",
            "  Stored in directory: /root/.cache/pip/wheels/86/62/9e/a6b27a681abcde69970dbc0326ff51955f3beac72f15696984\n",
            "Successfully built emoji\n",
            "Installing collected packages: emoji, stanza\n",
            "Successfully installed emoji-2.2.0 stanza-1.4.2\n"
          ]
        }
      ]
    },
    {
      "cell_type": "markdown",
      "source": [
        "***2) Khởi tạo đối tượng Pipeline***\n",
        "\n",
        "Đối tượng Pipeline có nhiệm vụ thực hiện các tác vụ đã được nêu ở trên. Pipeline có thể cài đặt cho một số ngôn ngữ, chẳng hạn tiếng Anh (chưa có tiếng Việt).\n",
        "\n",
        "Lưu ý, đối tượng Pipeline chỉ nên khởi tạo một lần, đối tượng này sẽ được sử dụng để xử lý khi cần."
      ],
      "metadata": {
        "id": "1f3oEe3A8QY_"
      }
    },
    {
      "cell_type": "code",
      "source": [
        "import stanza\n",
        "stanza.download('en')#, proxies=proxies)\n",
        "nlp = stanza.Pipeline('en')"
      ],
      "metadata": {
        "colab": {
          "base_uri": "https://localhost:8080/",
          "height": 651,
          "referenced_widgets": [
            "f8ca610b88fa4360af5c8e9712fd9964",
            "3dbe7e2588f544318cd54d740fbd6768",
            "d034011ce59a481a876db660d9d1f7be",
            "3ba996fd921344499138bc83cf45ed34",
            "a975b33badbe4e278c62258830ff059b",
            "8171f9a0ebf945f2a46ae288570e4aeb",
            "7a95dfea6d874d8a9621791eadd7f200",
            "ca57ee0b6f5f4b84a08a96b18d504803",
            "4142644b65b34ffabfe29e3641897651",
            "43612a3bc87e462baabd6a3ad03136af",
            "f809c26e13a149c5ac8fff3c45c78cd9",
            "5f062651cb1544d4b6984499bdd91b3d",
            "d6c3c3f330304c158e3a52d46d4b998c",
            "9379d6f74e764245aacfff35bfeb7b1c",
            "23c9bdb149c84d4eb328efa60c2485a6",
            "d77599a856db4a7a9cb41cbb7287021c",
            "d5ef001ff9f14f869d05e30f7fae636c",
            "dfef7f007c2c473090aed07e1fe9d636",
            "c19323940f5349dbb59e773ab3598fde",
            "f1f961ccf26542409abbe7a2bbc099e1",
            "63e4bd34b3f74efcab3a618808186af0",
            "10f00d85e82847ee900df31c60ac3479",
            "28cf8435fab2461c94dd6f05129a5f82",
            "766e9fa7b9c34aaa9d8ea411a08c06dd",
            "6626d24ab1a84af49e83a00378e186e7",
            "1570e18cb7ae48ad96c8e24c509a9402",
            "3eebe869c5df4ff9ab20e10be6c2c1ff",
            "a1d663a65740432593dbdd2b10049da4",
            "f316c99db0104ddf8d8e4b3dff9718a1",
            "e073b8cd4e5b414a91e762655ca4821e",
            "87d6a07f5bd44b7197349e25cbb0593e",
            "d1ea392073dc4c7087d27a5af71285ac",
            "135fe74be8414b428c22a8cb87663385"
          ]
        },
        "id": "lpg1piZKulBk",
        "outputId": "5b7b6fd1-86fc-41f2-aa63-23f445d12b32"
      },
      "execution_count": null,
      "outputs": [
        {
          "output_type": "display_data",
          "data": {
            "text/plain": [
              "Downloading https://raw.githubusercontent.com/stanfordnlp/stanza-resources/main/resources_1.4.1.json:   0%|   …"
            ],
            "application/vnd.jupyter.widget-view+json": {
              "version_major": 2,
              "version_minor": 0,
              "model_id": "f8ca610b88fa4360af5c8e9712fd9964"
            }
          },
          "metadata": {}
        },
        {
          "output_type": "stream",
          "name": "stderr",
          "text": [
            "INFO:stanza:Downloading default packages for language: en (English) ...\n"
          ]
        },
        {
          "output_type": "display_data",
          "data": {
            "text/plain": [
              "Downloading https://huggingface.co/stanfordnlp/stanza-en/resolve/v1.4.1/models/default.zip:   0%|          | 0…"
            ],
            "application/vnd.jupyter.widget-view+json": {
              "version_major": 2,
              "version_minor": 0,
              "model_id": "5f062651cb1544d4b6984499bdd91b3d"
            }
          },
          "metadata": {}
        },
        {
          "output_type": "stream",
          "name": "stderr",
          "text": [
            "INFO:stanza:Finished downloading models and saved to /root/stanza_resources.\n",
            "INFO:stanza:Checking for updates to resources.json in case models have been updated.  Note: this behavior can be turned off with download_method=None or download_method=DownloadMethod.REUSE_RESOURCES\n"
          ]
        },
        {
          "output_type": "display_data",
          "data": {
            "text/plain": [
              "Downloading https://raw.githubusercontent.com/stanfordnlp/stanza-resources/main/resources_1.4.1.json:   0%|   …"
            ],
            "application/vnd.jupyter.widget-view+json": {
              "version_major": 2,
              "version_minor": 0,
              "model_id": "28cf8435fab2461c94dd6f05129a5f82"
            }
          },
          "metadata": {}
        },
        {
          "output_type": "stream",
          "name": "stderr",
          "text": [
            "INFO:stanza:Loading these models for language: en (English):\n",
            "============================\n",
            "| Processor    | Package   |\n",
            "----------------------------\n",
            "| tokenize     | combined  |\n",
            "| pos          | combined  |\n",
            "| lemma        | combined  |\n",
            "| depparse     | combined  |\n",
            "| sentiment    | sstplus   |\n",
            "| constituency | wsj       |\n",
            "| ner          | ontonotes |\n",
            "============================\n",
            "\n",
            "INFO:stanza:Use device: cpu\n",
            "INFO:stanza:Loading: tokenize\n",
            "INFO:stanza:Loading: pos\n",
            "INFO:stanza:Loading: lemma\n",
            "INFO:stanza:Loading: depparse\n",
            "INFO:stanza:Loading: sentiment\n",
            "INFO:stanza:Loading: constituency\n",
            "INFO:stanza:Loading: ner\n",
            "INFO:stanza:Done loading processors!\n"
          ]
        }
      ]
    },
    {
      "cell_type": "markdown",
      "source": [
        "***3) Xử lý với đối tượng Pipeline***\n",
        "\n",
        "Truyền một đoạn hoặc một văn bản cho đối tượng Pipeline. Kết quả là một tài liệu đã được xử lý gồm các câu."
      ],
      "metadata": {
        "id": "4JjmF44-9Gqo"
      }
    },
    {
      "cell_type": "code",
      "source": [
        "doc = nlp(\"I have a book.  It is an exellent book.\")"
      ],
      "metadata": {
        "id": "XIVWpHqX7QS2"
      },
      "execution_count": null,
      "outputs": []
    },
    {
      "cell_type": "markdown",
      "source": [
        "Dùng thuộc tính constituency để lấy kết quả phân tích cú pháp cấu trúc ngữ đoạn"
      ],
      "metadata": {
        "id": "1kTNAA_d9shK"
      }
    },
    {
      "cell_type": "code",
      "source": [
        "doc.sentences[0].constituency"
      ],
      "metadata": {
        "colab": {
          "base_uri": "https://localhost:8080/"
        },
        "id": "NUOmNzu69_an",
        "outputId": "61421317-7365-44de-983f-ecab539e4d77"
      },
      "execution_count": null,
      "outputs": [
        {
          "output_type": "execute_result",
          "data": {
            "text/plain": [
              "(ROOT (S (NP (PRP I)) (VP (VBP have) (NP (DT a) (NN book))) (. .)))"
            ]
          },
          "metadata": {},
          "execution_count": 26
        }
      ]
    },
    {
      "cell_type": "markdown",
      "source": [
        "Dùng thuộc tính dependencies để lấy kết quả phân tích cú pháp phụ thuộc"
      ],
      "metadata": {
        "id": "h0DtPwR4-G5o"
      }
    },
    {
      "cell_type": "code",
      "source": [
        "doc.sentences[0].dependencies"
      ],
      "metadata": {
        "colab": {
          "base_uri": "https://localhost:8080/"
        },
        "id": "NLIm_Pwc-PV6",
        "outputId": "5ca9f7d0-a190-470e-a1d3-7e792f2d4920"
      },
      "execution_count": null,
      "outputs": [
        {
          "output_type": "execute_result",
          "data": {
            "text/plain": [
              "[({\n",
              "    \"id\": 2,\n",
              "    \"text\": \"have\",\n",
              "    \"lemma\": \"have\",\n",
              "    \"upos\": \"VERB\",\n",
              "    \"xpos\": \"VBP\",\n",
              "    \"feats\": \"Mood=Ind|Number=Sing|Person=1|Tense=Pres|VerbForm=Fin\",\n",
              "    \"head\": 0,\n",
              "    \"deprel\": \"root\",\n",
              "    \"start_char\": 2,\n",
              "    \"end_char\": 6\n",
              "  }, 'nsubj', {\n",
              "    \"id\": 1,\n",
              "    \"text\": \"I\",\n",
              "    \"lemma\": \"I\",\n",
              "    \"upos\": \"PRON\",\n",
              "    \"xpos\": \"PRP\",\n",
              "    \"feats\": \"Case=Nom|Number=Sing|Person=1|PronType=Prs\",\n",
              "    \"head\": 2,\n",
              "    \"deprel\": \"nsubj\",\n",
              "    \"start_char\": 0,\n",
              "    \"end_char\": 1\n",
              "  }), ({\n",
              "    \"id\": 0,\n",
              "    \"text\": \"ROOT\"\n",
              "  }, 'root', {\n",
              "    \"id\": 2,\n",
              "    \"text\": \"have\",\n",
              "    \"lemma\": \"have\",\n",
              "    \"upos\": \"VERB\",\n",
              "    \"xpos\": \"VBP\",\n",
              "    \"feats\": \"Mood=Ind|Number=Sing|Person=1|Tense=Pres|VerbForm=Fin\",\n",
              "    \"head\": 0,\n",
              "    \"deprel\": \"root\",\n",
              "    \"start_char\": 2,\n",
              "    \"end_char\": 6\n",
              "  }), ({\n",
              "    \"id\": 4,\n",
              "    \"text\": \"book\",\n",
              "    \"lemma\": \"book\",\n",
              "    \"upos\": \"NOUN\",\n",
              "    \"xpos\": \"NN\",\n",
              "    \"feats\": \"Number=Sing\",\n",
              "    \"head\": 2,\n",
              "    \"deprel\": \"obj\",\n",
              "    \"start_char\": 9,\n",
              "    \"end_char\": 13\n",
              "  }, 'det', {\n",
              "    \"id\": 3,\n",
              "    \"text\": \"a\",\n",
              "    \"lemma\": \"a\",\n",
              "    \"upos\": \"DET\",\n",
              "    \"xpos\": \"DT\",\n",
              "    \"feats\": \"Definite=Ind|PronType=Art\",\n",
              "    \"head\": 4,\n",
              "    \"deprel\": \"det\",\n",
              "    \"start_char\": 7,\n",
              "    \"end_char\": 8\n",
              "  }), ({\n",
              "    \"id\": 2,\n",
              "    \"text\": \"have\",\n",
              "    \"lemma\": \"have\",\n",
              "    \"upos\": \"VERB\",\n",
              "    \"xpos\": \"VBP\",\n",
              "    \"feats\": \"Mood=Ind|Number=Sing|Person=1|Tense=Pres|VerbForm=Fin\",\n",
              "    \"head\": 0,\n",
              "    \"deprel\": \"root\",\n",
              "    \"start_char\": 2,\n",
              "    \"end_char\": 6\n",
              "  }, 'obj', {\n",
              "    \"id\": 4,\n",
              "    \"text\": \"book\",\n",
              "    \"lemma\": \"book\",\n",
              "    \"upos\": \"NOUN\",\n",
              "    \"xpos\": \"NN\",\n",
              "    \"feats\": \"Number=Sing\",\n",
              "    \"head\": 2,\n",
              "    \"deprel\": \"obj\",\n",
              "    \"start_char\": 9,\n",
              "    \"end_char\": 13\n",
              "  }), ({\n",
              "    \"id\": 2,\n",
              "    \"text\": \"have\",\n",
              "    \"lemma\": \"have\",\n",
              "    \"upos\": \"VERB\",\n",
              "    \"xpos\": \"VBP\",\n",
              "    \"feats\": \"Mood=Ind|Number=Sing|Person=1|Tense=Pres|VerbForm=Fin\",\n",
              "    \"head\": 0,\n",
              "    \"deprel\": \"root\",\n",
              "    \"start_char\": 2,\n",
              "    \"end_char\": 6\n",
              "  }, 'punct', {\n",
              "    \"id\": 5,\n",
              "    \"text\": \".\",\n",
              "    \"lemma\": \".\",\n",
              "    \"upos\": \"PUNCT\",\n",
              "    \"xpos\": \".\",\n",
              "    \"head\": 2,\n",
              "    \"deprel\": \"punct\",\n",
              "    \"start_char\": 13,\n",
              "    \"end_char\": 14\n",
              "  })]"
            ]
          },
          "metadata": {},
          "execution_count": 27
        }
      ]
    },
    {
      "cell_type": "markdown",
      "source": [
        "Mỗi câu có nhiều từ, để truy xuất đến từ, từ gốc và nhãn từ loại thì dùng các thuộc tính text, lemma và xpos"
      ],
      "metadata": {
        "id": "7oUCIuzg-19R"
      }
    },
    {
      "cell_type": "code",
      "source": [
        "for word in doc.sentences[0].words:\n",
        "  print(word.text, word.lemma, word.xpos)\n"
      ],
      "metadata": {
        "colab": {
          "base_uri": "https://localhost:8080/"
        },
        "id": "c0-9nEErrARF",
        "outputId": "ec8229d9-5967-4180-80eb-656ceb6bd904"
      },
      "execution_count": null,
      "outputs": [
        {
          "output_type": "stream",
          "name": "stdout",
          "text": [
            "I I PRP\n",
            "have have VBP\n",
            "a a DT\n",
            "book book NN\n",
            ". . .\n"
          ]
        }
      ]
    },
    {
      "cell_type": "markdown",
      "source": [
        "**IV - PY-VNCORENLP (VNCORENLP)**\n",
        "\n",
        "PY-VNCORENLP là phiên bản wrap của vncorenlp trên Python. Py-vncorenlp có thể được dùng để nhận dạng ranh giới câu, tách từ, gán nhãn từ loại và phân tích cú pháp phụ thuộc. Kết quả xử lý được đặt trong một đối tượng để từ đó truy xuất đến từng kết quả như mong muốn.\n",
        "\n",
        "***1) Cài đặt py-vncorenlp***"
      ],
      "metadata": {
        "id": "3cX_Qwne_XtA"
      }
    },
    {
      "cell_type": "code",
      "source": [
        "!pip install py-vncorenlp"
      ],
      "metadata": {
        "colab": {
          "base_uri": "https://localhost:8080/"
        },
        "id": "Yk9awu831JGo",
        "outputId": "0cd5f91d-801c-4498-e8b2-552cbf660d21"
      },
      "execution_count": null,
      "outputs": [
        {
          "output_type": "stream",
          "name": "stdout",
          "text": [
            "Looking in indexes: https://pypi.org/simple, https://us-python.pkg.dev/colab-wheels/public/simple/\n",
            "Collecting py-vncorenlp\n",
            "  Downloading py_vncorenlp-0.1.3.tar.gz (3.9 kB)\n",
            "Collecting pyjnius\n",
            "  Downloading pyjnius-1.4.2-cp38-cp38-manylinux_2_17_x86_64.manylinux2014_x86_64.whl (1.5 MB)\n",
            "\u001b[K     |████████████████████████████████| 1.5 MB 7.7 MB/s \n",
            "\u001b[?25hRequirement already satisfied: six>=1.7.0 in /usr/local/lib/python3.8/dist-packages (from pyjnius->py-vncorenlp) (1.15.0)\n",
            "Building wheels for collected packages: py-vncorenlp\n",
            "  Building wheel for py-vncorenlp (setup.py) ... \u001b[?25l\u001b[?25hdone\n",
            "  Created wheel for py-vncorenlp: filename=py_vncorenlp-0.1.3-py3-none-any.whl size=4307 sha256=29d30fc4ee6d1fbe1caf1e9469aa80c83356ee7b0a9dac222ebe5da86c241669\n",
            "  Stored in directory: /root/.cache/pip/wheels/d7/73/13/6b1f2c14831151fc1417f3dc1fa6b241e27ad13f8c83691753\n",
            "Successfully built py-vncorenlp\n",
            "Installing collected packages: pyjnius, py-vncorenlp\n",
            "Successfully installed py-vncorenlp-0.1.3 pyjnius-1.4.2\n"
          ]
        }
      ]
    },
    {
      "cell_type": "markdown",
      "source": [
        "***2) Khởi tạo đối tượng VnCoreNLP***\n",
        "\n",
        "Đối tượng VnCoreNLP có nhiệm vụ thực hiện các tác vụ đã được nêu ở trên. \n",
        "\n",
        "Lưu ý, đối tượng VnCoreNLP chỉ được khởi tạo một lần. Nếu khởi tạo một lần nữa sẽ bị lỗi do đối tượng trước đã chiếm dụng tài nguyên của máy, đối tượng sau sẽ không được tạo."
      ],
      "metadata": {
        "id": "nLjIS3te_rRD"
      }
    },
    {
      "cell_type": "code",
      "source": [
        "import py_vncorenlp\n",
        "py_vncorenlp.download_model(save_dir='./')\n",
        "model = py_vncorenlp.VnCoreNLP(annotators=[\"wseg\", \"pos\", \"ner\", \"parse\"], save_dir='./')"
      ],
      "metadata": {
        "id": "_4OHuPd73xwM"
      },
      "execution_count": null,
      "outputs": []
    },
    {
      "cell_type": "markdown",
      "source": [
        "***3) Xử lý với đối tượng VnCoreNLP***\n",
        "\n",
        "Truyền một đoạn hoặc một văn bản cho đối tượng VnCoreNLP. Kết quả là một tài liệu đã được xử lý gồm các câu."
      ],
      "metadata": {
        "id": "IME-jr_AAbid"
      }
    },
    {
      "cell_type": "code",
      "source": [
        "sentences = model.annotate_text(\"Tôi có một quyển sách. Đó là quyển sách rất hay\")"
      ],
      "metadata": {
        "id": "tAtKa7Tx4NoD"
      },
      "execution_count": null,
      "outputs": []
    },
    {
      "cell_type": "markdown",
      "source": [
        "Kết quả xử lý kết quả phân tích cú pháp phụ thuộc của các câu."
      ],
      "metadata": {
        "id": "cT2bY8-iBOWy"
      }
    },
    {
      "cell_type": "code",
      "source": [
        "sentences[0]"
      ],
      "metadata": {
        "colab": {
          "base_uri": "https://localhost:8080/"
        },
        "id": "SplnCRRQBQPJ",
        "outputId": "2c35d77f-e6b9-4ba2-e2ea-14959c57cfe1"
      },
      "execution_count": null,
      "outputs": [
        {
          "output_type": "execute_result",
          "data": {
            "text/plain": [
              "[{'index': 1,\n",
              "  'wordForm': 'Tôi',\n",
              "  'posTag': 'P',\n",
              "  'nerLabel': 'O',\n",
              "  'head': 2,\n",
              "  'depLabel': 'sub'},\n",
              " {'index': 2,\n",
              "  'wordForm': 'có',\n",
              "  'posTag': 'V',\n",
              "  'nerLabel': 'O',\n",
              "  'head': 0,\n",
              "  'depLabel': 'root'},\n",
              " {'index': 3,\n",
              "  'wordForm': 'một',\n",
              "  'posTag': 'M',\n",
              "  'nerLabel': 'O',\n",
              "  'head': 4,\n",
              "  'depLabel': 'det'},\n",
              " {'index': 4,\n",
              "  'wordForm': 'quyển',\n",
              "  'posTag': 'Nc',\n",
              "  'nerLabel': 'O',\n",
              "  'head': 2,\n",
              "  'depLabel': 'dob'},\n",
              " {'index': 5,\n",
              "  'wordForm': 'sách',\n",
              "  'posTag': 'N',\n",
              "  'nerLabel': 'O',\n",
              "  'head': 4,\n",
              "  'depLabel': 'nmod'},\n",
              " {'index': 6,\n",
              "  'wordForm': '.',\n",
              "  'posTag': 'CH',\n",
              "  'nerLabel': 'O',\n",
              "  'head': 2,\n",
              "  'depLabel': 'punct'}]"
            ]
          },
          "metadata": {},
          "execution_count": 32
        }
      ]
    },
    {
      "cell_type": "markdown",
      "source": [
        "Mỗi câu gồm nhiều từ. Với mỗi từ, Dùng key 'wordForm' và 'posTag' để xác định biểu diễn từ đã được tách và nhãn từ loại của nó"
      ],
      "metadata": {
        "id": "KinY5DhjBkk6"
      }
    },
    {
      "cell_type": "code",
      "source": [
        "sent = sentences[0]\n",
        "for word in sent:\n",
        "  print(word['wordForm'], word['posTag'])"
      ],
      "metadata": {
        "colab": {
          "base_uri": "https://localhost:8080/"
        },
        "id": "p5cMeP5M4zkB",
        "outputId": "b56808e2-082c-4b8f-e64f-fbf4b4ebebab"
      },
      "execution_count": null,
      "outputs": [
        {
          "output_type": "stream",
          "name": "stdout",
          "text": [
            "Tôi P\n",
            "có V\n",
            "một M\n",
            "quyển Nc\n",
            "sách N\n",
            ". CH\n"
          ]
        }
      ]
    },
    {
      "cell_type": "markdown",
      "source": [
        "**V PHÂN LỚP VĂN BẢN**\n",
        "\n",
        "1) Cài đặt package scikit-learn"
      ],
      "metadata": {
        "id": "d_WccyYsEU_r"
      }
    },
    {
      "cell_type": "code",
      "source": [
        "!pip install scikit-learn"
      ],
      "metadata": {
        "id": "8gsALINHQJUh",
        "colab": {
          "base_uri": "https://localhost:8080/"
        },
        "outputId": "076b9d32-c36e-4d1c-c47b-42dbf737c658"
      },
      "execution_count": null,
      "outputs": [
        {
          "output_type": "stream",
          "name": "stdout",
          "text": [
            "Looking in indexes: https://pypi.org/simple, https://us-python.pkg.dev/colab-wheels/public/simple/\n",
            "Requirement already satisfied: scikit-learn in /usr/local/lib/python3.8/dist-packages (1.0.2)\n",
            "Requirement already satisfied: joblib>=0.11 in /usr/local/lib/python3.8/dist-packages (from scikit-learn) (1.2.0)\n",
            "Requirement already satisfied: scipy>=1.1.0 in /usr/local/lib/python3.8/dist-packages (from scikit-learn) (1.7.3)\n",
            "Requirement already satisfied: numpy>=1.14.6 in /usr/local/lib/python3.8/dist-packages (from scikit-learn) (1.21.6)\n",
            "Requirement already satisfied: threadpoolctl>=2.0.0 in /usr/local/lib/python3.8/dist-packages (from scikit-learn) (3.1.0)\n"
          ]
        }
      ]
    },
    {
      "cell_type": "markdown",
      "source": [
        "2) Sử dụng lớp Support Vector Classification (SVC) \n",
        "- Khai báo sử dụng SVC trong package sklearn.svm\n",
        "- Tạo đối tượng của lớp SVC các tham số cần lưu ý gồm C, kernel và tol\n",
        "- Chuẩn bị dữ liệu huấn luyện gồm 2 phần, X là tập giá trị đặc trưng, mỗi X[i] là một bộ, có dạng vector n chiều; Y là tập các nhãn tương ứng với mỗi bộ X[i]"
      ],
      "metadata": {
        "id": "u9vxEdF6QXs5"
      }
    },
    {
      "cell_type": "code",
      "source": [
        "from sklearn.svm import SVC"
      ],
      "metadata": {
        "id": "sQ37nZ3EVQ_x"
      },
      "execution_count": null,
      "outputs": []
    },
    {
      "cell_type": "markdown",
      "source": [
        "Ví dụ: Cho 4 tài liệu đã được phân lớp như sau:\n",
        "\n",
        "1) Chinese Beijing Chinese (China - 0)\n",
        "\n",
        "2) Chinese Chinese Shanghai (China - 0)\n",
        "\n",
        "3) Chinese Macao (China - 0)\n",
        "\n",
        "4) Tokyo Japan Chinese (Japan - 1)\n",
        "\n",
        "Cho biết tài liệu sau thuộc lớp nào?\n",
        "\n",
        "5) Chinese Chinese Chinese Tokyo Japan"
      ],
      "metadata": {
        "id": "F60XA6aIP7FR"
      }
    },
    {
      "cell_type": "code",
      "source": [
        "\n",
        "from sklearn.datasets import load_iris\n",
        "\n",
        "V = {'chinese', 'beijing', 'shanghai', 'macao', 'tokyo', 'japan'}\n",
        "d1= [2,1,0,0,0,0]\n",
        "d2= [2,0,1,0,0,0]\n",
        "d3= [1,0,0,1,0,0]\n",
        "d4= [1,0,0,0,1,1]\n",
        "d5= [3,0,0,0,1,1]\n",
        "y1= 0\n",
        "y2= 0\n",
        "y3= 0\n",
        "y4= 1\n",
        "\n",
        "X = [d1, d2, d3, d4]\n",
        "Y = [y1, y2, y3, y4]\n",
        "\n",
        "#kernel = ‘linear’, ‘poly’, ‘rbf’, ‘sigmoid’, ‘precomputed’\n",
        "classifier = SVC(C=2, kernel = \"rbf\",tol=0.5)\n",
        "classifier.fit(X,Y)\n",
        "classifier.predict([d5])"
      ],
      "metadata": {
        "colab": {
          "base_uri": "https://localhost:8080/"
        },
        "id": "Uj7DJCLxDM2r",
        "outputId": "33a6fa73-e452-4ad7-a58a-e801f8202e6a"
      },
      "execution_count": null,
      "outputs": [
        {
          "output_type": "execute_result",
          "data": {
            "text/plain": [
              "array([0])"
            ]
          },
          "metadata": {},
          "execution_count": 37
        }
      ]
    }
  ]
}